{
 "cells": [
  {
   "cell_type": "code",
   "execution_count": 402,
   "metadata": {},
   "outputs": [],
   "source": [
    "import pandas as pd\n",
    "import numpy as np\n",
    "\n",
    "import matplotlib.pyplot as plt\n",
    "\n",
    "from processing import *\n",
    "from vectorizing import *\n",
    "\n",
    "from keras.preprocessing.sequence import pad_sequences\n",
    "from keras import models\n",
    "from keras import layers\n",
    "\n",
    "from sklearn import metrics\n",
    "from sklearn.model_selection import train_test_split, cross_val_score, GridSearchCV, StratifiedKFold\n",
    "from sklearn.naive_bayes import MultinomialNB\n",
    "from sklearn.ensemble import RandomForestClassifier\n",
    "from sklearn.pipeline import Pipeline"
   ]
  },
  {
   "cell_type": "markdown",
   "metadata": {},
   "source": [
    "# Read the Data into Dataframe Variables"
   ]
  },
  {
   "cell_type": "markdown",
   "metadata": {},
   "source": [
    "### Read the training data"
   ]
  },
  {
   "cell_type": "code",
   "execution_count": 498,
   "metadata": {},
   "outputs": [],
   "source": [
    "# read csv file into dataframe variable\n",
    "df_train = pd.read_csv('../data/train.csv')"
   ]
  },
  {
   "cell_type": "code",
   "execution_count": 499,
   "metadata": {},
   "outputs": [
    {
     "data": {
      "text/plain": [
       "(7613, 5)"
      ]
     },
     "execution_count": 499,
     "metadata": {},
     "output_type": "execute_result"
    }
   ],
   "source": [
    "# check the size of the dataframe\n",
    "df_train.shape"
   ]
  },
  {
   "cell_type": "code",
   "execution_count": 500,
   "metadata": {},
   "outputs": [
    {
     "data": {
      "text/html": [
       "<div>\n",
       "<style scoped>\n",
       "    .dataframe tbody tr th:only-of-type {\n",
       "        vertical-align: middle;\n",
       "    }\n",
       "\n",
       "    .dataframe tbody tr th {\n",
       "        vertical-align: top;\n",
       "    }\n",
       "\n",
       "    .dataframe thead th {\n",
       "        text-align: right;\n",
       "    }\n",
       "</style>\n",
       "<table border=\"1\" class=\"dataframe\">\n",
       "  <thead>\n",
       "    <tr style=\"text-align: right;\">\n",
       "      <th></th>\n",
       "      <th>id</th>\n",
       "      <th>keyword</th>\n",
       "      <th>location</th>\n",
       "      <th>text</th>\n",
       "      <th>target</th>\n",
       "    </tr>\n",
       "  </thead>\n",
       "  <tbody>\n",
       "    <tr>\n",
       "      <th>0</th>\n",
       "      <td>1</td>\n",
       "      <td>NaN</td>\n",
       "      <td>NaN</td>\n",
       "      <td>Our Deeds are the Reason of this #earthquake M...</td>\n",
       "      <td>1</td>\n",
       "    </tr>\n",
       "    <tr>\n",
       "      <th>1</th>\n",
       "      <td>4</td>\n",
       "      <td>NaN</td>\n",
       "      <td>NaN</td>\n",
       "      <td>Forest fire near La Ronge Sask. Canada</td>\n",
       "      <td>1</td>\n",
       "    </tr>\n",
       "    <tr>\n",
       "      <th>2</th>\n",
       "      <td>5</td>\n",
       "      <td>NaN</td>\n",
       "      <td>NaN</td>\n",
       "      <td>All residents asked to 'shelter in place' are ...</td>\n",
       "      <td>1</td>\n",
       "    </tr>\n",
       "    <tr>\n",
       "      <th>3</th>\n",
       "      <td>6</td>\n",
       "      <td>NaN</td>\n",
       "      <td>NaN</td>\n",
       "      <td>13,000 people receive #wildfires evacuation or...</td>\n",
       "      <td>1</td>\n",
       "    </tr>\n",
       "    <tr>\n",
       "      <th>4</th>\n",
       "      <td>7</td>\n",
       "      <td>NaN</td>\n",
       "      <td>NaN</td>\n",
       "      <td>Just got sent this photo from Ruby #Alaska as ...</td>\n",
       "      <td>1</td>\n",
       "    </tr>\n",
       "  </tbody>\n",
       "</table>\n",
       "</div>"
      ],
      "text/plain": [
       "   id keyword location                                               text  \\\n",
       "0   1     NaN      NaN  Our Deeds are the Reason of this #earthquake M...   \n",
       "1   4     NaN      NaN             Forest fire near La Ronge Sask. Canada   \n",
       "2   5     NaN      NaN  All residents asked to 'shelter in place' are ...   \n",
       "3   6     NaN      NaN  13,000 people receive #wildfires evacuation or...   \n",
       "4   7     NaN      NaN  Just got sent this photo from Ruby #Alaska as ...   \n",
       "\n",
       "   target  \n",
       "0       1  \n",
       "1       1  \n",
       "2       1  \n",
       "3       1  \n",
       "4       1  "
      ]
     },
     "execution_count": 500,
     "metadata": {},
     "output_type": "execute_result"
    }
   ],
   "source": [
    "# view the first 5 rows of the dataframe\n",
    "df_train.head()"
   ]
  },
  {
   "cell_type": "code",
   "execution_count": 501,
   "metadata": {},
   "outputs": [
    {
     "data": {
      "text/plain": [
       "id           int64\n",
       "keyword     object\n",
       "location    object\n",
       "text        object\n",
       "target       int64\n",
       "dtype: object"
      ]
     },
     "execution_count": 501,
     "metadata": {},
     "output_type": "execute_result"
    }
   ],
   "source": [
    "df_train.dtypes"
   ]
  },
  {
   "cell_type": "code",
   "execution_count": 406,
   "metadata": {},
   "outputs": [],
   "source": [
    "# read cvs file into dataframe variables\n",
    "df_test = pd.read_csv('../data/test.csv')\n",
    "df_test_copy = df_test.copy()"
   ]
  },
  {
   "cell_type": "code",
   "execution_count": 407,
   "metadata": {},
   "outputs": [
    {
     "data": {
      "text/plain": [
       "(3263, 4)"
      ]
     },
     "execution_count": 407,
     "metadata": {},
     "output_type": "execute_result"
    }
   ],
   "source": [
    "# check the size of the dataframe\n",
    "df_test.shape"
   ]
  },
  {
   "cell_type": "code",
   "execution_count": 408,
   "metadata": {},
   "outputs": [
    {
     "data": {
      "text/html": [
       "<div>\n",
       "<style scoped>\n",
       "    .dataframe tbody tr th:only-of-type {\n",
       "        vertical-align: middle;\n",
       "    }\n",
       "\n",
       "    .dataframe tbody tr th {\n",
       "        vertical-align: top;\n",
       "    }\n",
       "\n",
       "    .dataframe thead th {\n",
       "        text-align: right;\n",
       "    }\n",
       "</style>\n",
       "<table border=\"1\" class=\"dataframe\">\n",
       "  <thead>\n",
       "    <tr style=\"text-align: right;\">\n",
       "      <th></th>\n",
       "      <th>id</th>\n",
       "      <th>keyword</th>\n",
       "      <th>location</th>\n",
       "      <th>text</th>\n",
       "    </tr>\n",
       "  </thead>\n",
       "  <tbody>\n",
       "    <tr>\n",
       "      <th>0</th>\n",
       "      <td>0</td>\n",
       "      <td>NaN</td>\n",
       "      <td>NaN</td>\n",
       "      <td>Just happened a terrible car crash</td>\n",
       "    </tr>\n",
       "    <tr>\n",
       "      <th>1</th>\n",
       "      <td>2</td>\n",
       "      <td>NaN</td>\n",
       "      <td>NaN</td>\n",
       "      <td>Heard about #earthquake is different cities, s...</td>\n",
       "    </tr>\n",
       "    <tr>\n",
       "      <th>2</th>\n",
       "      <td>3</td>\n",
       "      <td>NaN</td>\n",
       "      <td>NaN</td>\n",
       "      <td>there is a forest fire at spot pond, geese are...</td>\n",
       "    </tr>\n",
       "    <tr>\n",
       "      <th>3</th>\n",
       "      <td>9</td>\n",
       "      <td>NaN</td>\n",
       "      <td>NaN</td>\n",
       "      <td>Apocalypse lighting. #Spokane #wildfires</td>\n",
       "    </tr>\n",
       "    <tr>\n",
       "      <th>4</th>\n",
       "      <td>11</td>\n",
       "      <td>NaN</td>\n",
       "      <td>NaN</td>\n",
       "      <td>Typhoon Soudelor kills 28 in China and Taiwan</td>\n",
       "    </tr>\n",
       "  </tbody>\n",
       "</table>\n",
       "</div>"
      ],
      "text/plain": [
       "   id keyword location                                               text\n",
       "0   0     NaN      NaN                 Just happened a terrible car crash\n",
       "1   2     NaN      NaN  Heard about #earthquake is different cities, s...\n",
       "2   3     NaN      NaN  there is a forest fire at spot pond, geese are...\n",
       "3   9     NaN      NaN           Apocalypse lighting. #Spokane #wildfires\n",
       "4  11     NaN      NaN      Typhoon Soudelor kills 28 in China and Taiwan"
      ]
     },
     "execution_count": 408,
     "metadata": {},
     "output_type": "execute_result"
    }
   ],
   "source": [
    "# view the first 5 rows of the dataframe\n",
    "df_test.head()"
   ]
  },
  {
   "cell_type": "markdown",
   "metadata": {},
   "source": [
    "# Clean Data"
   ]
  },
  {
   "cell_type": "markdown",
   "metadata": {},
   "source": [
    "### Clean train data"
   ]
  },
  {
   "cell_type": "code",
   "execution_count": 409,
   "metadata": {},
   "outputs": [],
   "source": [
    "# drop id, keyword, and location features/columns\n",
    "df_train.drop(columns = ['id', 'keyword', 'location'], inplace=True)"
   ]
  },
  {
   "cell_type": "code",
   "execution_count": 410,
   "metadata": {},
   "outputs": [
    {
     "data": {
      "text/plain": [
       "text      0\n",
       "target    0\n",
       "dtype: int64"
      ]
     },
     "execution_count": 410,
     "metadata": {},
     "output_type": "execute_result"
    }
   ],
   "source": [
    "# check for NaN values in the text and target features\n",
    "df_train.isnull().sum()"
   ]
  },
  {
   "cell_type": "markdown",
   "metadata": {},
   "source": [
    "### Clean test data"
   ]
  },
  {
   "cell_type": "code",
   "execution_count": 411,
   "metadata": {},
   "outputs": [],
   "source": [
    "# drop id, keyword, and location features/columns\n",
    "df_test.drop(columns = ['id', 'keyword', 'location'], inplace=True)"
   ]
  },
  {
   "cell_type": "code",
   "execution_count": 412,
   "metadata": {},
   "outputs": [
    {
     "data": {
      "text/plain": [
       "text    0\n",
       "dtype: int64"
      ]
     },
     "execution_count": 412,
     "metadata": {},
     "output_type": "execute_result"
    }
   ],
   "source": [
    "# check for NaN values in the text and target features\n",
    "df_test.isnull().sum()"
   ]
  },
  {
   "cell_type": "markdown",
   "metadata": {},
   "source": [
    "# Preprocess text data"
   ]
  },
  {
   "cell_type": "markdown",
   "metadata": {},
   "source": [
    "### Preprocess train text"
   ]
  },
  {
   "cell_type": "code",
   "execution_count": 413,
   "metadata": {},
   "outputs": [],
   "source": [
    "# call the process_text function from the processing.py file\n",
    "# save the output into a new dataframe\n",
    "df_train_clean = process_text(df_train)"
   ]
  },
  {
   "cell_type": "code",
   "execution_count": 414,
   "metadata": {},
   "outputs": [
    {
     "data": {
      "text/html": [
       "<div>\n",
       "<style scoped>\n",
       "    .dataframe tbody tr th:only-of-type {\n",
       "        vertical-align: middle;\n",
       "    }\n",
       "\n",
       "    .dataframe tbody tr th {\n",
       "        vertical-align: top;\n",
       "    }\n",
       "\n",
       "    .dataframe thead th {\n",
       "        text-align: right;\n",
       "    }\n",
       "</style>\n",
       "<table border=\"1\" class=\"dataframe\">\n",
       "  <thead>\n",
       "    <tr style=\"text-align: right;\">\n",
       "      <th></th>\n",
       "      <th>text</th>\n",
       "      <th>target</th>\n",
       "    </tr>\n",
       "  </thead>\n",
       "  <tbody>\n",
       "    <tr>\n",
       "      <th>0</th>\n",
       "      <td>deeds reason earthquake may forgive us</td>\n",
       "      <td>1</td>\n",
       "    </tr>\n",
       "    <tr>\n",
       "      <th>1</th>\n",
       "      <td>forest fire near la</td>\n",
       "      <td>1</td>\n",
       "    </tr>\n",
       "    <tr>\n",
       "      <th>2</th>\n",
       "      <td>residents asked shelter place notified officer...</td>\n",
       "      <td>1</td>\n",
       "    </tr>\n",
       "    <tr>\n",
       "      <th>3</th>\n",
       "      <td>people receive wildfires evacuation orders</td>\n",
       "      <td>1</td>\n",
       "    </tr>\n",
       "    <tr>\n",
       "      <th>4</th>\n",
       "      <td>got sent photo ruby smoke wildfires pours school</td>\n",
       "      <td>1</td>\n",
       "    </tr>\n",
       "  </tbody>\n",
       "</table>\n",
       "</div>"
      ],
      "text/plain": [
       "                                                text  target\n",
       "0             deeds reason earthquake may forgive us       1\n",
       "1                                forest fire near la       1\n",
       "2  residents asked shelter place notified officer...       1\n",
       "3         people receive wildfires evacuation orders       1\n",
       "4   got sent photo ruby smoke wildfires pours school       1"
      ]
     },
     "execution_count": 414,
     "metadata": {},
     "output_type": "execute_result"
    }
   ],
   "source": [
    "# view the first 5 rows of the dataframe\n",
    "df_train_clean.head()"
   ]
  },
  {
   "cell_type": "markdown",
   "metadata": {},
   "source": [
    "### Preprocess test text"
   ]
  },
  {
   "cell_type": "code",
   "execution_count": 415,
   "metadata": {},
   "outputs": [],
   "source": [
    "# call the process_text function from the processing.py file\n",
    "# save the output into a new dataframe\n",
    "df_test_clean = process_text(df_test)"
   ]
  },
  {
   "cell_type": "code",
   "execution_count": 416,
   "metadata": {},
   "outputs": [
    {
     "data": {
      "text/html": [
       "<div>\n",
       "<style scoped>\n",
       "    .dataframe tbody tr th:only-of-type {\n",
       "        vertical-align: middle;\n",
       "    }\n",
       "\n",
       "    .dataframe tbody tr th {\n",
       "        vertical-align: top;\n",
       "    }\n",
       "\n",
       "    .dataframe thead th {\n",
       "        text-align: right;\n",
       "    }\n",
       "</style>\n",
       "<table border=\"1\" class=\"dataframe\">\n",
       "  <thead>\n",
       "    <tr style=\"text-align: right;\">\n",
       "      <th></th>\n",
       "      <th>text</th>\n",
       "    </tr>\n",
       "  </thead>\n",
       "  <tbody>\n",
       "    <tr>\n",
       "      <th>0</th>\n",
       "      <td>happened terrible car crash</td>\n",
       "    </tr>\n",
       "    <tr>\n",
       "      <th>1</th>\n",
       "      <td>heard earthquake different cities stay safe ev...</td>\n",
       "    </tr>\n",
       "    <tr>\n",
       "      <th>2</th>\n",
       "      <td>forest fire spot pond geese fleeing across str...</td>\n",
       "    </tr>\n",
       "    <tr>\n",
       "      <th>3</th>\n",
       "      <td>apocalypse lighting wildfires</td>\n",
       "    </tr>\n",
       "    <tr>\n",
       "      <th>4</th>\n",
       "      <td>typhoon kills china</td>\n",
       "    </tr>\n",
       "  </tbody>\n",
       "</table>\n",
       "</div>"
      ],
      "text/plain": [
       "                                                text\n",
       "0                        happened terrible car crash\n",
       "1  heard earthquake different cities stay safe ev...\n",
       "2  forest fire spot pond geese fleeing across str...\n",
       "3                      apocalypse lighting wildfires\n",
       "4                                typhoon kills china"
      ]
     },
     "execution_count": 416,
     "metadata": {},
     "output_type": "execute_result"
    }
   ],
   "source": [
    "# view the first 5 rows of the dataframe\n",
    "df_test_clean.head()"
   ]
  },
  {
   "cell_type": "markdown",
   "metadata": {},
   "source": [
    "# Vectorize the text using CountVectorizer"
   ]
  },
  {
   "cell_type": "markdown",
   "metadata": {},
   "source": [
    "### Vectorize the train text"
   ]
  },
  {
   "cell_type": "code",
   "execution_count": 417,
   "metadata": {},
   "outputs": [],
   "source": [
    "# one-hot encode and generate the dataframe with features as words\n",
    "term_df_train = vectorize_df(df_train)"
   ]
  },
  {
   "cell_type": "code",
   "execution_count": 418,
   "metadata": {},
   "outputs": [
    {
     "data": {
      "text/plain": [
       "(7613, 8697)"
      ]
     },
     "execution_count": 418,
     "metadata": {},
     "output_type": "execute_result"
    }
   ],
   "source": [
    "# view first 5 rows of the dataframe, (rows, columns)\n",
    "term_df_train.shape"
   ]
  },
  {
   "cell_type": "code",
   "execution_count": 419,
   "metadata": {},
   "outputs": [],
   "source": [
    "# add the target feature/column from the train data\n",
    "term_df_train['target'] = df_train_clean['target']"
   ]
  },
  {
   "cell_type": "code",
   "execution_count": 420,
   "metadata": {},
   "outputs": [
    {
     "data": {
      "text/plain": [
       "target       3271\n",
       "like          346\n",
       "amp           300\n",
       "fire          254\n",
       "get           229\n",
       "             ... \n",
       "midweek         1\n",
       "migraine        1\n",
       "migrating       1\n",
       "mil             1\n",
       "ab              1\n",
       "Length: 8697, dtype: int64"
      ]
     },
     "execution_count": 420,
     "metadata": {},
     "output_type": "execute_result"
    }
   ],
   "source": [
    "# view counts for each feature/column/word\n",
    "term_df_train.sum(axis=0).sort_values(ascending=False)"
   ]
  },
  {
   "cell_type": "markdown",
   "metadata": {},
   "source": [
    "### Vectorize the test text"
   ]
  },
  {
   "cell_type": "code",
   "execution_count": 421,
   "metadata": {},
   "outputs": [],
   "source": [
    "# one-hot encode and generate the dataframe with features as words\n",
    "term_df_test = vectorize_df(df_test)"
   ]
  },
  {
   "cell_type": "code",
   "execution_count": 422,
   "metadata": {},
   "outputs": [
    {
     "data": {
      "text/plain": [
       "(3263, 5796)"
      ]
     },
     "execution_count": 422,
     "metadata": {},
     "output_type": "execute_result"
    }
   ],
   "source": [
    "# view first 5 rows of the dataframe, (rows, columns)\n",
    "term_df_test.shape"
   ]
  },
  {
   "cell_type": "code",
   "execution_count": 423,
   "metadata": {},
   "outputs": [
    {
     "data": {
      "text/plain": [
       "like          145\n",
       "amp           136\n",
       "fire          109\n",
       "get           108\n",
       "via           104\n",
       "             ... \n",
       "motorways       1\n",
       "motors          1\n",
       "motorcycle      1\n",
       "mothers         1\n",
       "liberals        1\n",
       "Length: 5796, dtype: int64"
      ]
     },
     "execution_count": 423,
     "metadata": {},
     "output_type": "execute_result"
    }
   ],
   "source": [
    "# view counts for each feature/column/word\n",
    "term_df_test.sum(axis=0).sort_values(ascending=False)"
   ]
  },
  {
   "cell_type": "markdown",
   "metadata": {},
   "source": [
    "# Baseline"
   ]
  },
  {
   "cell_type": "code",
   "execution_count": 424,
   "metadata": {},
   "outputs": [
    {
     "data": {
      "text/plain": [
       "0    0.57034\n",
       "1    0.42966\n",
       "Name: target, dtype: float64"
      ]
     },
     "execution_count": 424,
     "metadata": {},
     "output_type": "execute_result"
    }
   ],
   "source": [
    "# if we predicted everything to be 1, disaster, the accuracy would be 0.4296\n",
    "df_train['target'].value_counts(normalize=True)"
   ]
  },
  {
   "cell_type": "markdown",
   "metadata": {},
   "source": [
    "# Models"
   ]
  },
  {
   "cell_type": "markdown",
   "metadata": {},
   "source": [
    "## Neural Network"
   ]
  },
  {
   "cell_type": "markdown",
   "metadata": {},
   "source": [
    "### Create Tensors from Train Data"
   ]
  },
  {
   "cell_type": "code",
   "execution_count": 425,
   "metadata": {},
   "outputs": [],
   "source": [
    "# prepare the tensors for the neural network\n",
    "# tensor = multidimensional numpy array, ndarray in Python\n",
    "train_labels = term_df_train['target'] # series\n",
    "train_data = term_df_train.copy() # dataframe\n",
    "train_data.drop(columns='target', inplace=True)\n",
    "train_data = train_data.to_numpy() # ndarray"
   ]
  },
  {
   "cell_type": "code",
   "execution_count": 426,
   "metadata": {},
   "outputs": [],
   "source": [
    "# create the tensors\n",
    "x_train = pad_sequences(train_data, padding='post', maxlen=10000) # ndarray of length 10000\n",
    "y_train = np.asarray(train_labels).astype('float32') # ndarray"
   ]
  },
  {
   "cell_type": "markdown",
   "metadata": {},
   "source": [
    "### Split the data into train and validation/test"
   ]
  },
  {
   "cell_type": "code",
   "execution_count": 427,
   "metadata": {},
   "outputs": [],
   "source": [
    "# create training and validation/testing data to feed into the neural network\n",
    "partial_x_train, x_val, partial_y_train, y_val = train_test_split(x_train, y_train, random_state=0, stratify=y_train)"
   ]
  },
  {
   "cell_type": "code",
   "execution_count": 428,
   "metadata": {},
   "outputs": [
    {
     "data": {
      "text/plain": [
       "((1904, 10000), (5709, 10000), (1904,), (5709,))"
      ]
     },
     "execution_count": 428,
     "metadata": {},
     "output_type": "execute_result"
    }
   ],
   "source": [
    "# check the shape of the tensors\n",
    "x_val.shape, partial_x_train.shape, y_val.shape, partial_y_train.shape"
   ]
  },
  {
   "cell_type": "markdown",
   "metadata": {},
   "source": [
    "### Build, Train, and Evaluate the Model"
   ]
  },
  {
   "cell_type": "code",
   "execution_count": 429,
   "metadata": {},
   "outputs": [],
   "source": [
    "# build the model\n",
    "model = models.Sequential()\n",
    "model.add(layers.Dense(16, activation='relu', input_shape=(10_000, ))) # , input layer, input shape needs to match the length of the x data tensor\n",
    "model.add(layers.Dense(16, activation='relu')) # intermediate layer, hidden layer\n",
    "model.add(layers.Dense(1, activation='sigmoid')) # output layer"
   ]
  },
  {
   "cell_type": "code",
   "execution_count": 430,
   "metadata": {},
   "outputs": [],
   "source": [
    "# compile the model\n",
    "# need to specify optimizer, loss function, and evaluation metric\n",
    "model.compile(optimizer='rmsprop', loss='binary_crossentropy', metrics=['acc'])"
   ]
  },
  {
   "cell_type": "code",
   "execution_count": 431,
   "metadata": {},
   "outputs": [
    {
     "name": "stdout",
     "output_type": "stream",
     "text": [
      "Epoch 1/20\n",
      "12/12 [==============================] - 0s 26ms/step - loss: 0.6838 - acc: 0.5803 - val_loss: 0.6708 - val_acc: 0.6113\n",
      "Epoch 2/20\n",
      "12/12 [==============================] - 0s 18ms/step - loss: 0.6527 - acc: 0.6502 - val_loss: 0.6430 - val_acc: 0.6849\n",
      "Epoch 3/20\n",
      "12/12 [==============================] - 0s 19ms/step - loss: 0.6141 - acc: 0.7460 - val_loss: 0.6150 - val_acc: 0.7295\n",
      "Epoch 4/20\n",
      "12/12 [==============================] - 0s 19ms/step - loss: 0.5738 - acc: 0.7970 - val_loss: 0.5893 - val_acc: 0.7521\n",
      "Epoch 5/20\n",
      "12/12 [==============================] - 0s 19ms/step - loss: 0.5336 - acc: 0.8266 - val_loss: 0.5654 - val_acc: 0.7673\n",
      "Epoch 6/20\n",
      "12/12 [==============================] - 0s 18ms/step - loss: 0.4940 - acc: 0.8499 - val_loss: 0.5449 - val_acc: 0.7810\n",
      "Epoch 7/20\n",
      "12/12 [==============================] - 0s 18ms/step - loss: 0.4563 - acc: 0.8679 - val_loss: 0.5270 - val_acc: 0.7889\n",
      "Epoch 8/20\n",
      "12/12 [==============================] - 0s 19ms/step - loss: 0.4201 - acc: 0.8814 - val_loss: 0.5141 - val_acc: 0.7873\n",
      "Epoch 9/20\n",
      "12/12 [==============================] - 0s 19ms/step - loss: 0.3862 - acc: 0.8895 - val_loss: 0.5018 - val_acc: 0.7973\n",
      "Epoch 10/20\n",
      "12/12 [==============================] - 0s 19ms/step - loss: 0.3550 - acc: 0.9007 - val_loss: 0.4946 - val_acc: 0.7983\n",
      "Epoch 11/20\n",
      "12/12 [==============================] - 0s 18ms/step - loss: 0.3259 - acc: 0.9087 - val_loss: 0.4897 - val_acc: 0.8015\n",
      "Epoch 12/20\n",
      "12/12 [==============================] - 0s 18ms/step - loss: 0.2989 - acc: 0.9170 - val_loss: 0.4906 - val_acc: 0.7978\n",
      "Epoch 13/20\n",
      "12/12 [==============================] - 0s 18ms/step - loss: 0.2738 - acc: 0.9236 - val_loss: 0.4943 - val_acc: 0.7952\n",
      "Epoch 14/20\n",
      "12/12 [==============================] - 0s 19ms/step - loss: 0.2508 - acc: 0.9278 - val_loss: 0.4963 - val_acc: 0.7983\n",
      "Epoch 15/20\n",
      "12/12 [==============================] - 0s 19ms/step - loss: 0.2299 - acc: 0.9317 - val_loss: 0.5036 - val_acc: 0.7988\n",
      "Epoch 16/20\n",
      "12/12 [==============================] - 0s 20ms/step - loss: 0.2109 - acc: 0.9364 - val_loss: 0.5162 - val_acc: 0.7978\n",
      "Epoch 17/20\n",
      "12/12 [==============================] - 0s 23ms/step - loss: 0.1937 - acc: 0.9399 - val_loss: 0.5312 - val_acc: 0.7967\n",
      "Epoch 18/20\n",
      "12/12 [==============================] - 0s 20ms/step - loss: 0.1784 - acc: 0.9431 - val_loss: 0.5429 - val_acc: 0.7920\n",
      "Epoch 19/20\n",
      "12/12 [==============================] - 0s 18ms/step - loss: 0.1649 - acc: 0.9496 - val_loss: 0.5608 - val_acc: 0.7883\n",
      "Epoch 20/20\n",
      "12/12 [==============================] - 0s 16ms/step - loss: 0.1528 - acc: 0.9506 - val_loss: 0.5861 - val_acc: 0.7904\n"
     ]
    }
   ],
   "source": [
    "# fit/train the model on the train data, and evaluate/test on the validation/test data\n",
    "# need to specify train data, number of epochs, batch size, and validation data\n",
    "history = model.fit(partial_x_train, partial_y_train, epochs=20, batch_size=512, validation_data=(x_val, y_val))"
   ]
  },
  {
   "cell_type": "code",
   "execution_count": 432,
   "metadata": {},
   "outputs": [
    {
     "data": {
      "image/png": "[encoded data removed]",
      "text/plain": [
       "<Figure size 432x288 with 1 Axes>"
      ]
     },
     "metadata": {
      "needs_background": "light"
     },
     "output_type": "display_data"
    }
   ],
   "source": [
    "# plot the training and validation/test loss\n",
    "history_dict = history.history\n",
    "loss_values = history_dict['loss']\n",
    "val_loss_values = history_dict['val_loss']\n",
    "acc_values = history_dict['acc']\n",
    "\n",
    "epochs = range(1, len(acc_values)+1)\n",
    "\n",
    "plt.plot(epochs, loss_values, 'bo', label='Training loss')\n",
    "plt.plot(epochs, val_loss_values, 'b', label='Validation loss')\n",
    "plt.title('Training and validation loss')\n",
    "plt.xlabel('Epochs')\n",
    "plt.ylabel('Loss')\n",
    "plt.legend()\n",
    "\n",
    "plt.show()"
   ]
  },
  {
   "cell_type": "code",
   "execution_count": 433,
   "metadata": {},
   "outputs": [
    {
     "data": {
      "image/png": "[encoded data removed]",
      "text/plain": [
       "<Figure size 432x288 with 1 Axes>"
      ]
     },
     "metadata": {
      "needs_background": "light"
     },
     "output_type": "display_data"
    }
   ],
   "source": [
    "# plot the training and validation/test accuracy\n",
    "plt.clf()\n",
    "acc_values = history_dict['acc']\n",
    "val_acc_values = history_dict['val_acc']\n",
    "\n",
    "plt.plot(epochs, acc_values, 'bo', label='Training acc')\n",
    "plt.plot(epochs, val_acc_values, 'b', label='Validation acc')\n",
    "plt.title('Training and validation accuracy')\n",
    "plt.xlabel('Epochs')\n",
    "plt.ylabel('Loss')\n",
    "plt.legend()\n",
    "\n",
    "plt.show()"
   ]
  },
  {
   "cell_type": "code",
   "execution_count": 434,
   "metadata": {},
   "outputs": [
    {
     "name": "stdout",
     "output_type": "stream",
     "text": [
      "Epoch 1/9\n",
      "12/12 [==============================] - 0s 21ms/step - loss: 0.1418 - acc: 0.9541 - val_loss: 0.6037 - val_acc: 0.7904\n",
      "Epoch 2/9\n",
      "12/12 [==============================] - 0s 19ms/step - loss: 0.1327 - acc: 0.9553 - val_loss: 0.6223 - val_acc: 0.7857\n",
      "Epoch 3/9\n",
      "12/12 [==============================] - 0s 19ms/step - loss: 0.1233 - acc: 0.9580 - val_loss: 0.6516 - val_acc: 0.7868\n",
      "Epoch 4/9\n",
      "12/12 [==============================] - 0s 19ms/step - loss: 0.1159 - acc: 0.9595 - val_loss: 0.6802 - val_acc: 0.7841\n",
      "Epoch 5/9\n",
      "12/12 [==============================] - 0s 18ms/step - loss: 0.1088 - acc: 0.9615 - val_loss: 0.7058 - val_acc: 0.7831\n",
      "Epoch 6/9\n",
      "12/12 [==============================] - 0s 18ms/step - loss: 0.1025 - acc: 0.9636 - val_loss: 0.7340 - val_acc: 0.7805\n",
      "Epoch 7/9\n",
      "12/12 [==============================] - 0s 18ms/step - loss: 0.0975 - acc: 0.9653 - val_loss: 0.7604 - val_acc: 0.7810\n",
      "Epoch 8/9\n",
      "12/12 [==============================] - 0s 19ms/step - loss: 0.0918 - acc: 0.9667 - val_loss: 0.7867 - val_acc: 0.7805\n",
      "Epoch 9/9\n",
      "12/12 [==============================] - 0s 16ms/step - loss: 0.0879 - acc: 0.9676 - val_loss: 0.8265 - val_acc: 0.7773\n"
     ]
    }
   ],
   "source": [
    "# re-train the model with a number of epochs based on where we see the lowest loss and highest accuracy for the validation data (check plots above)\n",
    "history = model.fit(partial_x_train, partial_y_train, epochs=9, batch_size=512, validation_data=(x_val, y_val))"
   ]
  },
  {
   "cell_type": "markdown",
   "metadata": {},
   "source": [
    "### Create Tensor from Kaggle Test Data"
   ]
  },
  {
   "cell_type": "code",
   "execution_count": 435,
   "metadata": {},
   "outputs": [],
   "source": [
    "# prepare the tensors for the neural network\n",
    "# tensor = multidimensional numpy array, ndarray in Python\n",
    "test_data = term_df_test.copy() # dataframe\n",
    "test_data = test_data.to_numpy() # ndarray"
   ]
  },
  {
   "cell_type": "code",
   "execution_count": 436,
   "metadata": {},
   "outputs": [],
   "source": [
    "# create the tensors\n",
    "x_test = pad_sequences(test_data, padding='post', maxlen=10000) # ndarray of length 10000"
   ]
  },
  {
   "cell_type": "code",
   "execution_count": 437,
   "metadata": {},
   "outputs": [
    {
     "data": {
      "text/plain": [
       "(3263, 10000)"
      ]
     },
     "execution_count": 437,
     "metadata": {},
     "output_type": "execute_result"
    }
   ],
   "source": [
    "# check the shape of the tensors\n",
    "x_test.shape"
   ]
  },
  {
   "cell_type": "markdown",
   "metadata": {},
   "source": [
    "### Get predictions from Kaggle Test Data"
   ]
  },
  {
   "cell_type": "code",
   "execution_count": 438,
   "metadata": {},
   "outputs": [
    {
     "data": {
      "text/plain": [
       "array([[0.00157171],\n",
       "       [0.00307176],\n",
       "       [0.99210644],\n",
       "       ...,\n",
       "       [0.01605666],\n",
       "       [0.6621732 ],\n",
       "       [0.52972704]], dtype=float32)"
      ]
     },
     "execution_count": 438,
     "metadata": {},
     "output_type": "execute_result"
    }
   ],
   "source": [
    "# get predictions for test data\n",
    "preds = model.predict(x_test)\n",
    "preds"
   ]
  },
  {
   "cell_type": "code",
   "execution_count": 439,
   "metadata": {},
   "outputs": [
    {
     "data": {
      "text/plain": [
       "array([[1],\n",
       "       [1],\n",
       "       [0],\n",
       "       ...,\n",
       "       [1],\n",
       "       [0],\n",
       "       [0]])"
      ]
     },
     "execution_count": 439,
     "metadata": {},
     "output_type": "execute_result"
    }
   ],
   "source": [
    "# map values less that 0.5 to 0 and values higher than 0.5 to 1\n",
    "y_test = (preds < 0.5).astype(np.int)\n",
    "y_test"
   ]
  },
  {
   "cell_type": "markdown",
   "metadata": {},
   "source": [
    "### Create Submission File for Kaggle"
   ]
  },
  {
   "cell_type": "code",
   "execution_count": 440,
   "metadata": {},
   "outputs": [],
   "source": [
    "# add all test data into submission, and drop the features/columns not needed\n",
    "# submission columns are id and target\n",
    "submission = df_test_copy.copy()\n",
    "submission.drop(columns=['keyword', 'location', 'text'], inplace=True)"
   ]
  },
  {
   "cell_type": "code",
   "execution_count": 441,
   "metadata": {},
   "outputs": [],
   "source": [
    "# add the target column to the submission dataframe\n",
    "submission['target'] = y_test"
   ]
  },
  {
   "cell_type": "code",
   "execution_count": 442,
   "metadata": {},
   "outputs": [],
   "source": [
    "# save the submission dataframe into a csv file, then upload the file on the Kaggle website\n",
    "# https://www.kaggle.com/c/nlp-getting-started/submit\n",
    "submission.to_csv('../data/submission.csv', index=False)"
   ]
  },
  {
   "cell_type": "code",
   "execution_count": 443,
   "metadata": {},
   "outputs": [],
   "source": [
    "# Baseline = 0.42966\n",
    "# Kaggle score = 0.46797"
   ]
  },
  {
   "cell_type": "markdown",
   "metadata": {},
   "source": [
    "## Multinomial Naive Bayes"
   ]
  },
  {
   "cell_type": "code",
   "execution_count": 444,
   "metadata": {},
   "outputs": [],
   "source": [
    "y = term_df_train['target']\n",
    "x = term_df_train.copy()\n",
    "x.drop(columns='target', inplace=True)"
   ]
  },
  {
   "cell_type": "markdown",
   "metadata": {},
   "source": [
    "### Split the data into train and validation/test"
   ]
  },
  {
   "cell_type": "code",
   "execution_count": 445,
   "metadata": {},
   "outputs": [],
   "source": [
    "# create training and validation/testing data to feed into the neural network\n",
    "partial_x_train, x_val, partial_y_train, y_val = train_test_split(x_train, y_train, random_state=0, stratify=y)"
   ]
  },
  {
   "cell_type": "code",
   "execution_count": 446,
   "metadata": {},
   "outputs": [
    {
     "data": {
      "text/plain": [
       "((1904, 10000), (5709, 10000), (1904,), (5709,))"
      ]
     },
     "execution_count": 446,
     "metadata": {},
     "output_type": "execute_result"
    }
   ],
   "source": [
    "# check the shape of the tensors\n",
    "x_val.shape, partial_x_train.shape, y_val.shape, partial_y_train.shape"
   ]
  },
  {
   "cell_type": "code",
   "execution_count": 447,
   "metadata": {},
   "outputs": [
    {
     "name": "stdout",
     "output_type": "stream",
     "text": [
      "0.7904411764705882\n"
     ]
    }
   ],
   "source": [
    "model = MultinomialNB()\n",
    "model.fit(partial_x_train, partial_y_train)\n",
    "print(model.score(x_val, y_val))"
   ]
  },
  {
   "cell_type": "code",
   "execution_count": 448,
   "metadata": {},
   "outputs": [],
   "source": [
    "preds_val = model.predict(x_val)"
   ]
  },
  {
   "cell_type": "code",
   "execution_count": 449,
   "metadata": {},
   "outputs": [
    {
     "data": {
      "text/plain": [
       "0.7427466150870407"
      ]
     },
     "execution_count": 449,
     "metadata": {},
     "output_type": "execute_result"
    }
   ],
   "source": [
    "metrics.f1_score(y_val, preds_val)"
   ]
  },
  {
   "cell_type": "markdown",
   "metadata": {},
   "source": [
    "### Get predictions from Kaggle Test Data"
   ]
  },
  {
   "cell_type": "code",
   "execution_count": 450,
   "metadata": {},
   "outputs": [
    {
     "data": {
      "text/plain": [
       "array([0., 0., 1., ..., 0., 1., 0.], dtype=float32)"
      ]
     },
     "execution_count": 450,
     "metadata": {},
     "output_type": "execute_result"
    }
   ],
   "source": [
    "# get predictions for test data\n",
    "preds = model.predict(x_test)\n",
    "preds"
   ]
  },
  {
   "cell_type": "code",
   "execution_count": 451,
   "metadata": {},
   "outputs": [
    {
     "data": {
      "text/plain": [
       "array([1, 1, 0, ..., 1, 0, 1])"
      ]
     },
     "execution_count": 451,
     "metadata": {},
     "output_type": "execute_result"
    }
   ],
   "source": [
    "# map values less that 0.5 to 0 and values higher than 0.5 to 1\n",
    "y_test = (preds < 0.5).astype(np.int)\n",
    "y_test"
   ]
  },
  {
   "cell_type": "markdown",
   "metadata": {},
   "source": [
    "### Create Submission File for Kaggle"
   ]
  },
  {
   "cell_type": "code",
   "execution_count": 452,
   "metadata": {},
   "outputs": [],
   "source": [
    "# add all test data into submission, and drop the features/columns not needed\n",
    "# submission columns are id and target\n",
    "submission_nb = df_test_copy.copy()\n",
    "submission_nb.drop(columns=['keyword', 'location', 'text'], inplace=True)"
   ]
  },
  {
   "cell_type": "code",
   "execution_count": 453,
   "metadata": {},
   "outputs": [],
   "source": [
    "# add the target column to the submission dataframe\n",
    "submission_nb['target'] = y_test"
   ]
  },
  {
   "cell_type": "code",
   "execution_count": 454,
   "metadata": {},
   "outputs": [],
   "source": [
    "# save the submission dataframe into a csv file, then upload the file on the Kaggle website\n",
    "# https://www.kaggle.com/c/nlp-getting-started/submit\n",
    "submission_nb.to_csv('../data/submission_nb.csv', index=False)"
   ]
  },
  {
   "cell_type": "code",
   "execution_count": 455,
   "metadata": {},
   "outputs": [],
   "source": [
    "# Baseline = 0.42966\n",
    "# Kaggle score = 0.46858"
   ]
  },
  {
   "cell_type": "markdown",
   "metadata": {},
   "source": [
    "## Multinomial Naive Bayes with GridSearch"
   ]
  },
  {
   "cell_type": "markdown",
   "metadata": {},
   "source": [
    "### Split the data into train and validation/test"
   ]
  },
  {
   "cell_type": "code",
   "execution_count": 456,
   "metadata": {},
   "outputs": [],
   "source": [
    "x = df_train['text']\n",
    "y = df_train['target']"
   ]
  },
  {
   "cell_type": "code",
   "execution_count": 457,
   "metadata": {},
   "outputs": [],
   "source": [
    "# create training and validation/testing data to feed into the neural network\n",
    "partial_x_train, x_val, partial_y_train, y_val = train_test_split(x, y, random_state=0, stratify=y)"
   ]
  },
  {
   "cell_type": "code",
   "execution_count": 458,
   "metadata": {},
   "outputs": [
    {
     "data": {
      "text/plain": [
       "((1904,), (5709,), (1904,), (5709,))"
      ]
     },
     "execution_count": 458,
     "metadata": {},
     "output_type": "execute_result"
    }
   ],
   "source": [
    "# check the shape of the tensors\n",
    "x_val.shape, partial_x_train.shape, y_val.shape, partial_y_train.shape"
   ]
  },
  {
   "cell_type": "code",
   "execution_count": 459,
   "metadata": {},
   "outputs": [],
   "source": [
    "pipe = Pipeline([\n",
    "    ('cvec', CountVectorizer()),\n",
    "    ('nb', MultinomialNB())\n",
    "])"
   ]
  },
  {
   "cell_type": "code",
   "execution_count": 460,
   "metadata": {},
   "outputs": [],
   "source": [
    "pipe_params = {'cvec__max_features':[2000, 3000, 4000],\n",
    "               'cvec__min_df':[2, 3],\n",
    "               'cvec__max_df':[.90, .95],\n",
    "               'cvec__ngram_range':[(1,1), (1,2)]\n",
    "                }"
   ]
  },
  {
   "cell_type": "code",
   "execution_count": 461,
   "metadata": {},
   "outputs": [],
   "source": [
    "cv_folds = StratifiedKFold(n_splits=5, shuffle=True, random_state=42)"
   ]
  },
  {
   "cell_type": "code",
   "execution_count": 462,
   "metadata": {},
   "outputs": [],
   "source": [
    "gs = GridSearchCV(pipe\n",
    "                  , pipe_params\n",
    "                  , cv=cv_folds \n",
    "                  , verbose=1\n",
    "                  , n_jobs=4\n",
    "                 )"
   ]
  },
  {
   "cell_type": "code",
   "execution_count": 463,
   "metadata": {},
   "outputs": [
    {
     "name": "stdout",
     "output_type": "stream",
     "text": [
      "Fitting 5 folds for each of 24 candidates, totalling 120 fits\n"
     ]
    },
    {
     "name": "stderr",
     "output_type": "stream",
     "text": [
      "[Parallel(n_jobs=4)]: Using backend LokyBackend with 4 concurrent workers.\n",
      "[Parallel(n_jobs=4)]: Done  56 tasks      | elapsed:    2.4s\n",
      "[Parallel(n_jobs=4)]: Done 120 out of 120 | elapsed:    3.5s finished\n"
     ]
    },
    {
     "data": {
      "text/plain": [
       "GridSearchCV(cv=StratifiedKFold(n_splits=5, random_state=42, shuffle=True),\n",
       "             estimator=Pipeline(steps=[('cvec', CountVectorizer()),\n",
       "                                       ('nb', MultinomialNB())]),\n",
       "             n_jobs=4,\n",
       "             param_grid={'cvec__max_df': [0.9, 0.95],\n",
       "                         'cvec__max_features': [2000, 3000, 4000],\n",
       "                         'cvec__min_df': [2, 3],\n",
       "                         'cvec__ngram_range': [(1, 1), (1, 2)]},\n",
       "             verbose=1)"
      ]
     },
     "execution_count": 463,
     "metadata": {},
     "output_type": "execute_result"
    }
   ],
   "source": [
    "gs.fit(partial_x_train, partial_y_train)"
   ]
  },
  {
   "cell_type": "code",
   "execution_count": 464,
   "metadata": {},
   "outputs": [
    {
     "data": {
      "text/plain": [
       "{'cvec__max_df': 0.9,\n",
       " 'cvec__max_features': 4000,\n",
       " 'cvec__min_df': 3,\n",
       " 'cvec__ngram_range': (1, 2)}"
      ]
     },
     "execution_count": 464,
     "metadata": {},
     "output_type": "execute_result"
    }
   ],
   "source": [
    "gs.best_params_"
   ]
  },
  {
   "cell_type": "code",
   "execution_count": 465,
   "metadata": {},
   "outputs": [],
   "source": [
    "preds_val = gs.predict(x_val)"
   ]
  },
  {
   "cell_type": "code",
   "execution_count": 466,
   "metadata": {},
   "outputs": [
    {
     "data": {
      "text/plain": [
       "0.8025210084033614"
      ]
     },
     "execution_count": 466,
     "metadata": {},
     "output_type": "execute_result"
    }
   ],
   "source": [
    "metrics.accuracy_score(y_val, preds_val)"
   ]
  },
  {
   "cell_type": "code",
   "execution_count": 467,
   "metadata": {},
   "outputs": [
    {
     "data": {
      "text/plain": [
       "0.7473118279569894"
      ]
     },
     "execution_count": 467,
     "metadata": {},
     "output_type": "execute_result"
    }
   ],
   "source": [
    "metrics.f1_score(y_val, preds_val)"
   ]
  },
  {
   "cell_type": "markdown",
   "metadata": {},
   "source": [
    "### Get predictions from Kaggle Test Data"
   ]
  },
  {
   "cell_type": "code",
   "execution_count": 468,
   "metadata": {},
   "outputs": [
    {
     "data": {
      "text/plain": [
       "array([1, 0, 1, ..., 1, 1, 1])"
      ]
     },
     "execution_count": 468,
     "metadata": {},
     "output_type": "execute_result"
    }
   ],
   "source": [
    "# get predictions for test data\n",
    "preds = gs.predict(df_test['text'])\n",
    "preds"
   ]
  },
  {
   "cell_type": "markdown",
   "metadata": {},
   "source": [
    "### Create Submission File for Kaggle"
   ]
  },
  {
   "cell_type": "code",
   "execution_count": 469,
   "metadata": {},
   "outputs": [],
   "source": [
    "# add all test data into submission, and drop the features/columns not needed\n",
    "# submission columns are id and target\n",
    "submission_gs = df_test_copy.copy()\n",
    "submission_gs.drop(columns=['keyword', 'location', 'text'], inplace=True)"
   ]
  },
  {
   "cell_type": "code",
   "execution_count": 470,
   "metadata": {},
   "outputs": [],
   "source": [
    "# add the target column to the submission dataframe\n",
    "submission_gs['target'] = y_test"
   ]
  },
  {
   "cell_type": "code",
   "execution_count": 471,
   "metadata": {},
   "outputs": [],
   "source": [
    "# save the submission dataframe into a csv file, then upload the file on the Kaggle website\n",
    "# https://www.kaggle.com/c/nlp-getting-started/submit\n",
    "submission_gs.to_csv('../data/submission_gs.csv', index=False)"
   ]
  },
  {
   "cell_type": "code",
   "execution_count": 472,
   "metadata": {},
   "outputs": [],
   "source": [
    "# Baseline = 0.42966\n",
    "# Kaggle score = 0.23046"
   ]
  },
  {
   "cell_type": "markdown",
   "metadata": {},
   "source": [
    "## Neural Network (experiment with layers)"
   ]
  },
  {
   "cell_type": "markdown",
   "metadata": {},
   "source": [
    "### Create Tensors from Train Data"
   ]
  },
  {
   "cell_type": "code",
   "execution_count": 473,
   "metadata": {},
   "outputs": [],
   "source": [
    "# prepare the tensors for the neural network\n",
    "# tensor = multidimensional numpy array, ndarray in Python\n",
    "train_labels = term_df_train['target'] # series\n",
    "train_data = term_df_train.copy() # dataframe\n",
    "train_data.drop(columns='target', inplace=True)\n",
    "train_data = train_data.to_numpy() # ndarray"
   ]
  },
  {
   "cell_type": "code",
   "execution_count": 474,
   "metadata": {},
   "outputs": [],
   "source": [
    "# create the tensors\n",
    "x_train = pad_sequences(train_data, padding='post', maxlen=10000) # ndarray of length 10000\n",
    "y_train = np.asarray(train_labels).astype('float32') # ndarray"
   ]
  },
  {
   "cell_type": "code",
   "execution_count": 475,
   "metadata": {},
   "outputs": [],
   "source": [
    "# create training and validation/testing data to feed into the neural network\n",
    "partial_x_train, x_val, partial_y_train, y_val = train_test_split(x_train, y_train, random_state=0, stratify=y_train)"
   ]
  },
  {
   "cell_type": "markdown",
   "metadata": {},
   "source": [
    "### Create Tensor from Kaggle Test Data"
   ]
  },
  {
   "cell_type": "code",
   "execution_count": 476,
   "metadata": {},
   "outputs": [],
   "source": [
    "# prepare the tensors for the neural network\n",
    "# tensor = multidimensional numpy array, ndarray in Python\n",
    "test_data = term_df_test.copy() # dataframe\n",
    "test_data = test_data.to_numpy() # ndarray"
   ]
  },
  {
   "cell_type": "code",
   "execution_count": 477,
   "metadata": {},
   "outputs": [],
   "source": [
    "# create the tensors\n",
    "x_test = pad_sequences(test_data, padding='post', maxlen=10000) # ndarray of length 10000"
   ]
  },
  {
   "cell_type": "code",
   "execution_count": 478,
   "metadata": {},
   "outputs": [
    {
     "data": {
      "text/plain": [
       "(3263, 10000)"
      ]
     },
     "execution_count": 478,
     "metadata": {},
     "output_type": "execute_result"
    }
   ],
   "source": [
    "# check the shape of the tensors\n",
    "x_test.shape"
   ]
  },
  {
   "cell_type": "markdown",
   "metadata": {},
   "source": [
    "### Split Data into Train and Validation/Test"
   ]
  },
  {
   "cell_type": "code",
   "execution_count": 479,
   "metadata": {},
   "outputs": [
    {
     "data": {
      "text/plain": [
       "((1904, 10000), (5709, 10000), (1904,), (5709,))"
      ]
     },
     "execution_count": 479,
     "metadata": {},
     "output_type": "execute_result"
    }
   ],
   "source": [
    "# check the shape of the tensors\n",
    "x_val.shape, partial_x_train.shape, y_val.shape, partial_y_train.shape"
   ]
  },
  {
   "cell_type": "markdown",
   "metadata": {},
   "source": [
    "### Build, Train, and Evaluate the Model"
   ]
  },
  {
   "cell_type": "code",
   "execution_count": 480,
   "metadata": {},
   "outputs": [],
   "source": [
    "# build the model\n",
    "model = models.Sequential()\n",
    "model.add(layers.Dense(32, activation='relu', input_shape=(10_000, ))) # , input layer, input shape needs to match the length of the x data tensor\n",
    "model.add(layers.Dense(32, activation='relu')) # intermediate layer, hidden layer\n",
    "model.add(layers.Dense(1, activation='sigmoid')) # output layer"
   ]
  },
  {
   "cell_type": "code",
   "execution_count": 481,
   "metadata": {},
   "outputs": [],
   "source": [
    "# compile the model\n",
    "# need to specify optimizer, loss function, and evaluation metric\n",
    "model.compile(optimizer='adam', loss='binary_crossentropy', metrics=['acc'])"
   ]
  },
  {
   "cell_type": "code",
   "execution_count": 482,
   "metadata": {},
   "outputs": [
    {
     "name": "stdout",
     "output_type": "stream",
     "text": [
      "Epoch 1/20\n",
      "12/12 [==============================] - 0s 29ms/step - loss: 0.6850 - acc: 0.5849 - val_loss: 0.6713 - val_acc: 0.6166\n",
      "Epoch 2/20\n",
      "12/12 [==============================] - 0s 20ms/step - loss: 0.6457 - acc: 0.6961 - val_loss: 0.6299 - val_acc: 0.7316\n",
      "Epoch 3/20\n",
      "12/12 [==============================] - 0s 21ms/step - loss: 0.5757 - acc: 0.8208 - val_loss: 0.5694 - val_acc: 0.7910\n",
      "Epoch 4/20\n",
      "12/12 [==============================] - 0s 21ms/step - loss: 0.4793 - acc: 0.8637 - val_loss: 0.5103 - val_acc: 0.8036\n",
      "Epoch 5/20\n",
      "12/12 [==============================] - 0s 21ms/step - loss: 0.3819 - acc: 0.8900 - val_loss: 0.4743 - val_acc: 0.8088\n",
      "Epoch 6/20\n",
      "12/12 [==============================] - 0s 20ms/step - loss: 0.3025 - acc: 0.9089 - val_loss: 0.4664 - val_acc: 0.8093\n",
      "Epoch 7/20\n",
      "12/12 [==============================] - 0s 21ms/step - loss: 0.2453 - acc: 0.9217 - val_loss: 0.4772 - val_acc: 0.7994\n",
      "Epoch 8/20\n",
      "12/12 [==============================] - 0s 21ms/step - loss: 0.2041 - acc: 0.9362 - val_loss: 0.4962 - val_acc: 0.7941\n",
      "Epoch 9/20\n",
      "12/12 [==============================] - 0s 20ms/step - loss: 0.1731 - acc: 0.9452 - val_loss: 0.5208 - val_acc: 0.7936\n",
      "Epoch 10/20\n",
      "12/12 [==============================] - 0s 19ms/step - loss: 0.1500 - acc: 0.9517 - val_loss: 0.5443 - val_acc: 0.7920\n",
      "Epoch 11/20\n",
      "12/12 [==============================] - 0s 20ms/step - loss: 0.1318 - acc: 0.9573 - val_loss: 0.5693 - val_acc: 0.7931\n",
      "Epoch 12/20\n",
      "12/12 [==============================] - 0s 19ms/step - loss: 0.1173 - acc: 0.9616 - val_loss: 0.5939 - val_acc: 0.7852\n",
      "Epoch 13/20\n",
      "12/12 [==============================] - 0s 20ms/step - loss: 0.1063 - acc: 0.9643 - val_loss: 0.6181 - val_acc: 0.7794\n",
      "Epoch 14/20\n",
      "12/12 [==============================] - 0s 19ms/step - loss: 0.0968 - acc: 0.9669 - val_loss: 0.6412 - val_acc: 0.7810\n",
      "Epoch 15/20\n",
      "12/12 [==============================] - 0s 20ms/step - loss: 0.0892 - acc: 0.9693 - val_loss: 0.6677 - val_acc: 0.7778\n",
      "Epoch 16/20\n",
      "12/12 [==============================] - 0s 21ms/step - loss: 0.0831 - acc: 0.9690 - val_loss: 0.6928 - val_acc: 0.7694\n",
      "Epoch 17/20\n",
      "12/12 [==============================] - 0s 19ms/step - loss: 0.0771 - acc: 0.9716 - val_loss: 0.7163 - val_acc: 0.7721\n",
      "Epoch 18/20\n",
      "12/12 [==============================] - 0s 20ms/step - loss: 0.0734 - acc: 0.9723 - val_loss: 0.7407 - val_acc: 0.7721\n",
      "Epoch 19/20\n",
      "12/12 [==============================] - 0s 19ms/step - loss: 0.0697 - acc: 0.9748 - val_loss: 0.7643 - val_acc: 0.7700\n",
      "Epoch 20/20\n",
      "12/12 [==============================] - 0s 17ms/step - loss: 0.0660 - acc: 0.9753 - val_loss: 0.7842 - val_acc: 0.7700\n"
     ]
    }
   ],
   "source": [
    "# fit/train the model on the train data, and evaluate/test on the validation/test data\n",
    "# need to specify train data, number of epochs, batch size, and validation data\n",
    "history = model.fit(partial_x_train, partial_y_train, epochs=20, batch_size=512, validation_data=(x_val, y_val))"
   ]
  },
  {
   "cell_type": "code",
   "execution_count": 483,
   "metadata": {},
   "outputs": [
    {
     "data": {
      "image/png": "[encoded data removed]",
      "text/plain": [
       "<Figure size 432x288 with 1 Axes>"
      ]
     },
     "metadata": {
      "needs_background": "light"
     },
     "output_type": "display_data"
    }
   ],
   "source": [
    "# plot the training and validation/test loss\n",
    "history_dict = history.history\n",
    "loss_values = history_dict['loss']\n",
    "val_loss_values = history_dict['val_loss']\n",
    "acc_values = history_dict['acc']\n",
    "\n",
    "epochs = range(1, len(acc_values)+1)\n",
    "\n",
    "plt.plot(epochs, loss_values, 'bo', label='Training loss')\n",
    "plt.plot(epochs, val_loss_values, 'b', label='Validation loss')\n",
    "plt.title('Training and validation loss')\n",
    "plt.xlabel('Epochs')\n",
    "plt.ylabel('Loss')\n",
    "plt.legend()\n",
    "\n",
    "plt.show()"
   ]
  },
  {
   "cell_type": "code",
   "execution_count": 484,
   "metadata": {},
   "outputs": [
    {
     "data": {
      "image/png": "[encoded data removed]",
      "text/plain": [
       "<Figure size 432x288 with 1 Axes>"
      ]
     },
     "metadata": {
      "needs_background": "light"
     },
     "output_type": "display_data"
    }
   ],
   "source": [
    "# plot the training and validation/test accuracy\n",
    "plt.clf()\n",
    "acc_values = history_dict['acc']\n",
    "val_acc_values = history_dict['val_acc']\n",
    "\n",
    "plt.plot(epochs, acc_values, 'bo', label='Training acc')\n",
    "plt.plot(epochs, val_acc_values, 'b', label='Validation acc')\n",
    "plt.title('Training and validation accuracy')\n",
    "plt.xlabel('Epochs')\n",
    "plt.ylabel('Loss')\n",
    "plt.legend()\n",
    "\n",
    "plt.show()"
   ]
  },
  {
   "cell_type": "code",
   "execution_count": 485,
   "metadata": {},
   "outputs": [
    {
     "name": "stdout",
     "output_type": "stream",
     "text": [
      "Epoch 1/5\n",
      "12/12 [==============================] - 0s 22ms/step - loss: 0.0636 - acc: 0.9762 - val_loss: 0.8031 - val_acc: 0.7652\n",
      "Epoch 2/5\n",
      "12/12 [==============================] - 0s 21ms/step - loss: 0.0632 - acc: 0.9751 - val_loss: 0.8209 - val_acc: 0.7715\n",
      "Epoch 3/5\n",
      "12/12 [==============================] - 0s 20ms/step - loss: 0.0622 - acc: 0.9750 - val_loss: 0.8397 - val_acc: 0.7679\n",
      "Epoch 4/5\n",
      "12/12 [==============================] - 0s 20ms/step - loss: 0.0601 - acc: 0.9760 - val_loss: 0.8497 - val_acc: 0.7663\n",
      "Epoch 5/5\n",
      "12/12 [==============================] - 0s 17ms/step - loss: 0.0569 - acc: 0.9765 - val_loss: 0.8712 - val_acc: 0.7652\n"
     ]
    }
   ],
   "source": [
    "# re-train the model with a number of epochs based on where we see the lowest loss and highest accuracy for the validation data (check plots above)\n",
    "history = model.fit(partial_x_train, partial_y_train, epochs=5, batch_size=512, validation_data=(x_val, y_val))"
   ]
  },
  {
   "cell_type": "markdown",
   "metadata": {},
   "source": [
    "### Get predictions from Kaggle Test Data"
   ]
  },
  {
   "cell_type": "code",
   "execution_count": 486,
   "metadata": {},
   "outputs": [
    {
     "data": {
      "text/plain": [
       "array([[0.00631982],\n",
       "       [0.00434968],\n",
       "       [0.9912906 ],\n",
       "       ...,\n",
       "       [0.01584309],\n",
       "       [0.8419248 ],\n",
       "       [0.8077694 ]], dtype=float32)"
      ]
     },
     "execution_count": 486,
     "metadata": {},
     "output_type": "execute_result"
    }
   ],
   "source": [
    "# get predictions for test data\n",
    "preds = model.predict(x_test)\n",
    "preds"
   ]
  },
  {
   "cell_type": "code",
   "execution_count": 487,
   "metadata": {},
   "outputs": [
    {
     "data": {
      "text/plain": [
       "array([[1],\n",
       "       [1],\n",
       "       [0],\n",
       "       ...,\n",
       "       [1],\n",
       "       [0],\n",
       "       [0]])"
      ]
     },
     "execution_count": 487,
     "metadata": {},
     "output_type": "execute_result"
    }
   ],
   "source": [
    "# map values less that 0.5 to 0 and values higher than 0.5 to 1\n",
    "y_test = (preds < 0.5).astype(np.int)\n",
    "y_test"
   ]
  },
  {
   "cell_type": "markdown",
   "metadata": {},
   "source": [
    "### Create Submission File for Kaggle"
   ]
  },
  {
   "cell_type": "code",
   "execution_count": 488,
   "metadata": {},
   "outputs": [],
   "source": [
    "# add all test data into submission, and drop the features/columns not needed\n",
    "# submission columns are id and target\n",
    "submission_nn = df_test_copy.copy()\n",
    "submission_nn.drop(columns=['keyword', 'location', 'text'], inplace=True)"
   ]
  },
  {
   "cell_type": "code",
   "execution_count": 489,
   "metadata": {},
   "outputs": [],
   "source": [
    "# add the target column to the submission dataframe\n",
    "submission_nn['target'] = y_test"
   ]
  },
  {
   "cell_type": "code",
   "execution_count": 490,
   "metadata": {},
   "outputs": [],
   "source": [
    "# save the submission dataframe into a csv file, then upload the file on the Kaggle website\n",
    "# https://www.kaggle.com/c/nlp-getting-started/submit\n",
    "submission_nn.to_csv('../data/submission_nn.csv', index=False)"
   ]
  },
  {
   "cell_type": "code",
   "execution_count": 491,
   "metadata": {},
   "outputs": [],
   "source": [
    "# Baseline = 0.42966\n",
    "# Kaggle score = 0.44836"
   ]
  },
  {
   "cell_type": "markdown",
   "metadata": {},
   "source": [
    "# Conclusion"
   ]
  },
  {
   "cell_type": "markdown",
   "metadata": {},
   "source": [
    "The Neural Network and Naive Bayes models performed best."
   ]
  },
  {
   "cell_type": "markdown",
   "metadata": {},
   "source": [
    "Neural Networks requires very large amount of data, so they may not be the best option for working with this dataset."
   ]
  },
  {
   "cell_type": "code",
   "execution_count": null,
   "metadata": {},
   "outputs": [],
   "source": []
  }
 ],
 "metadata": {
  "kernelspec": {
   "display_name": "Python 3",
   "language": "python",
   "name": "python3"
  },
  "language_info": {
   "codemirror_mode": {
    "name": "ipython",
    "version": 3
   },
   "file_extension": ".py",
   "mimetype": "text/x-python",
   "name": "python",
   "nbconvert_exporter": "python",
   "pygments_lexer": "ipython3",
   "version": "3.8.3"
  }
 },
 "nbformat": 4,
 "nbformat_minor": 4
}
