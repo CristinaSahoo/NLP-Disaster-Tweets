{
 "cells": [
  {
   "cell_type": "code",
   "execution_count": 258,
   "metadata": {},
   "outputs": [],
   "source": [
    "import pandas as pd\n",
    "import numpy as np\n",
    "\n",
    "import matplotlib.pyplot as plt\n",
    "\n",
    "from processing import *\n",
    "from vectorizing import *\n",
    "\n",
    "from keras.preprocessing.sequence import pad_sequences\n",
    "from keras import models\n",
    "from keras import layers\n",
    "\n",
    "from sklearn import metrics\n",
    "from sklearn.model_selection import train_test_split, cross_val_score, GridSearchCV, StratifiedKFold\n",
    "from sklearn.naive_bayes import MultinomialNB\n",
    "from sklearn.ensemble import RandomForestClassifier\n",
    "from sklearn.pipeline import Pipeline"
   ]
  },
  {
   "cell_type": "markdown",
   "metadata": {},
   "source": [
    "# Read the Data into Dataframe Variables"
   ]
  },
  {
   "cell_type": "markdown",
   "metadata": {},
   "source": [
    "### Read the training data"
   ]
  },
  {
   "cell_type": "code",
   "execution_count": 20,
   "metadata": {},
   "outputs": [],
   "source": [
    "# read csv file into dataframe variable\n",
    "df_train = pd.read_csv('../data/train.csv')"
   ]
  },
  {
   "cell_type": "code",
   "execution_count": 21,
   "metadata": {},
   "outputs": [
    {
     "data": {
      "text/plain": [
       "(7613, 5)"
      ]
     },
     "execution_count": 21,
     "metadata": {},
     "output_type": "execute_result"
    }
   ],
   "source": [
    "# check the size of the dataframe\n",
    "df_train.shape"
   ]
  },
  {
   "cell_type": "code",
   "execution_count": 22,
   "metadata": {},
   "outputs": [
    {
     "data": {
      "text/html": [
       "<div>\n",
       "<style scoped>\n",
       "    .dataframe tbody tr th:only-of-type {\n",
       "        vertical-align: middle;\n",
       "    }\n",
       "\n",
       "    .dataframe tbody tr th {\n",
       "        vertical-align: top;\n",
       "    }\n",
       "\n",
       "    .dataframe thead th {\n",
       "        text-align: right;\n",
       "    }\n",
       "</style>\n",
       "<table border=\"1\" class=\"dataframe\">\n",
       "  <thead>\n",
       "    <tr style=\"text-align: right;\">\n",
       "      <th></th>\n",
       "      <th>id</th>\n",
       "      <th>keyword</th>\n",
       "      <th>location</th>\n",
       "      <th>text</th>\n",
       "      <th>target</th>\n",
       "    </tr>\n",
       "  </thead>\n",
       "  <tbody>\n",
       "    <tr>\n",
       "      <th>0</th>\n",
       "      <td>1</td>\n",
       "      <td>NaN</td>\n",
       "      <td>NaN</td>\n",
       "      <td>Our Deeds are the Reason of this #earthquake M...</td>\n",
       "      <td>1</td>\n",
       "    </tr>\n",
       "    <tr>\n",
       "      <th>1</th>\n",
       "      <td>4</td>\n",
       "      <td>NaN</td>\n",
       "      <td>NaN</td>\n",
       "      <td>Forest fire near La Ronge Sask. Canada</td>\n",
       "      <td>1</td>\n",
       "    </tr>\n",
       "    <tr>\n",
       "      <th>2</th>\n",
       "      <td>5</td>\n",
       "      <td>NaN</td>\n",
       "      <td>NaN</td>\n",
       "      <td>All residents asked to 'shelter in place' are ...</td>\n",
       "      <td>1</td>\n",
       "    </tr>\n",
       "    <tr>\n",
       "      <th>3</th>\n",
       "      <td>6</td>\n",
       "      <td>NaN</td>\n",
       "      <td>NaN</td>\n",
       "      <td>13,000 people receive #wildfires evacuation or...</td>\n",
       "      <td>1</td>\n",
       "    </tr>\n",
       "    <tr>\n",
       "      <th>4</th>\n",
       "      <td>7</td>\n",
       "      <td>NaN</td>\n",
       "      <td>NaN</td>\n",
       "      <td>Just got sent this photo from Ruby #Alaska as ...</td>\n",
       "      <td>1</td>\n",
       "    </tr>\n",
       "  </tbody>\n",
       "</table>\n",
       "</div>"
      ],
      "text/plain": [
       "   id keyword location                                               text  \\\n",
       "0   1     NaN      NaN  Our Deeds are the Reason of this #earthquake M...   \n",
       "1   4     NaN      NaN             Forest fire near La Ronge Sask. Canada   \n",
       "2   5     NaN      NaN  All residents asked to 'shelter in place' are ...   \n",
       "3   6     NaN      NaN  13,000 people receive #wildfires evacuation or...   \n",
       "4   7     NaN      NaN  Just got sent this photo from Ruby #Alaska as ...   \n",
       "\n",
       "   target  \n",
       "0       1  \n",
       "1       1  \n",
       "2       1  \n",
       "3       1  \n",
       "4       1  "
      ]
     },
     "execution_count": 22,
     "metadata": {},
     "output_type": "execute_result"
    }
   ],
   "source": [
    "# view the first 5 rows of the dataframe\n",
    "df_train.head()"
   ]
  },
  {
   "cell_type": "code",
   "execution_count": 94,
   "metadata": {},
   "outputs": [],
   "source": [
    "# read cvs file into dataframe variables\n",
    "df_test = pd.read_csv('../data/test.csv')\n",
    "df_test_copy = df_test.copy()"
   ]
  },
  {
   "cell_type": "code",
   "execution_count": 26,
   "metadata": {},
   "outputs": [
    {
     "data": {
      "text/plain": [
       "(3263, 4)"
      ]
     },
     "execution_count": 26,
     "metadata": {},
     "output_type": "execute_result"
    }
   ],
   "source": [
    "# check the size of the dataframe\n",
    "df_test.shape"
   ]
  },
  {
   "cell_type": "code",
   "execution_count": 28,
   "metadata": {},
   "outputs": [
    {
     "data": {
      "text/html": [
       "<div>\n",
       "<style scoped>\n",
       "    .dataframe tbody tr th:only-of-type {\n",
       "        vertical-align: middle;\n",
       "    }\n",
       "\n",
       "    .dataframe tbody tr th {\n",
       "        vertical-align: top;\n",
       "    }\n",
       "\n",
       "    .dataframe thead th {\n",
       "        text-align: right;\n",
       "    }\n",
       "</style>\n",
       "<table border=\"1\" class=\"dataframe\">\n",
       "  <thead>\n",
       "    <tr style=\"text-align: right;\">\n",
       "      <th></th>\n",
       "      <th>id</th>\n",
       "      <th>keyword</th>\n",
       "      <th>location</th>\n",
       "      <th>text</th>\n",
       "    </tr>\n",
       "  </thead>\n",
       "  <tbody>\n",
       "    <tr>\n",
       "      <th>0</th>\n",
       "      <td>0</td>\n",
       "      <td>NaN</td>\n",
       "      <td>NaN</td>\n",
       "      <td>Just happened a terrible car crash</td>\n",
       "    </tr>\n",
       "    <tr>\n",
       "      <th>1</th>\n",
       "      <td>2</td>\n",
       "      <td>NaN</td>\n",
       "      <td>NaN</td>\n",
       "      <td>Heard about #earthquake is different cities, s...</td>\n",
       "    </tr>\n",
       "    <tr>\n",
       "      <th>2</th>\n",
       "      <td>3</td>\n",
       "      <td>NaN</td>\n",
       "      <td>NaN</td>\n",
       "      <td>there is a forest fire at spot pond, geese are...</td>\n",
       "    </tr>\n",
       "    <tr>\n",
       "      <th>3</th>\n",
       "      <td>9</td>\n",
       "      <td>NaN</td>\n",
       "      <td>NaN</td>\n",
       "      <td>Apocalypse lighting. #Spokane #wildfires</td>\n",
       "    </tr>\n",
       "    <tr>\n",
       "      <th>4</th>\n",
       "      <td>11</td>\n",
       "      <td>NaN</td>\n",
       "      <td>NaN</td>\n",
       "      <td>Typhoon Soudelor kills 28 in China and Taiwan</td>\n",
       "    </tr>\n",
       "  </tbody>\n",
       "</table>\n",
       "</div>"
      ],
      "text/plain": [
       "   id keyword location                                               text\n",
       "0   0     NaN      NaN                 Just happened a terrible car crash\n",
       "1   2     NaN      NaN  Heard about #earthquake is different cities, s...\n",
       "2   3     NaN      NaN  there is a forest fire at spot pond, geese are...\n",
       "3   9     NaN      NaN           Apocalypse lighting. #Spokane #wildfires\n",
       "4  11     NaN      NaN      Typhoon Soudelor kills 28 in China and Taiwan"
      ]
     },
     "execution_count": 28,
     "metadata": {},
     "output_type": "execute_result"
    }
   ],
   "source": [
    "# view the first 5 rows of the dataframe\n",
    "df_test.head()"
   ]
  },
  {
   "cell_type": "markdown",
   "metadata": {},
   "source": [
    "# Clean Data"
   ]
  },
  {
   "cell_type": "markdown",
   "metadata": {},
   "source": [
    "### Clean train data"
   ]
  },
  {
   "cell_type": "code",
   "execution_count": 29,
   "metadata": {},
   "outputs": [],
   "source": [
    "# drop id, keyword, and location features/columns\n",
    "df_train.drop(columns = ['id', 'keyword', 'location'], inplace=True)"
   ]
  },
  {
   "cell_type": "code",
   "execution_count": 30,
   "metadata": {},
   "outputs": [
    {
     "data": {
      "text/plain": [
       "text      0\n",
       "target    0\n",
       "dtype: int64"
      ]
     },
     "execution_count": 30,
     "metadata": {},
     "output_type": "execute_result"
    }
   ],
   "source": [
    "# check for NaN values in the text and target features\n",
    "df_train.isnull().sum()"
   ]
  },
  {
   "cell_type": "markdown",
   "metadata": {},
   "source": [
    "### Clean test data"
   ]
  },
  {
   "cell_type": "code",
   "execution_count": 267,
   "metadata": {},
   "outputs": [],
   "source": [
    "# drop id, keyword, and location features/columns\n",
    "df_test.drop(columns = ['id', 'keyword', 'location'], inplace=True)"
   ]
  },
  {
   "cell_type": "code",
   "execution_count": 268,
   "metadata": {},
   "outputs": [
    {
     "data": {
      "text/plain": [
       "text    0\n",
       "dtype: int64"
      ]
     },
     "execution_count": 268,
     "metadata": {},
     "output_type": "execute_result"
    }
   ],
   "source": [
    "# check for NaN values in the text and target features\n",
    "df_test.isnull().sum()"
   ]
  },
  {
   "cell_type": "markdown",
   "metadata": {},
   "source": [
    "# Preprocess text data"
   ]
  },
  {
   "cell_type": "markdown",
   "metadata": {},
   "source": [
    "### Preprocess train text"
   ]
  },
  {
   "cell_type": "code",
   "execution_count": 33,
   "metadata": {},
   "outputs": [],
   "source": [
    "# call the process_text function from the processing.py file\n",
    "# save the output into a new dataframe\n",
    "df_train_clean = process_text(df_train)"
   ]
  },
  {
   "cell_type": "code",
   "execution_count": 10,
   "metadata": {},
   "outputs": [
    {
     "data": {
      "text/html": [
       "<div>\n",
       "<style scoped>\n",
       "    .dataframe tbody tr th:only-of-type {\n",
       "        vertical-align: middle;\n",
       "    }\n",
       "\n",
       "    .dataframe tbody tr th {\n",
       "        vertical-align: top;\n",
       "    }\n",
       "\n",
       "    .dataframe thead th {\n",
       "        text-align: right;\n",
       "    }\n",
       "</style>\n",
       "<table border=\"1\" class=\"dataframe\">\n",
       "  <thead>\n",
       "    <tr style=\"text-align: right;\">\n",
       "      <th></th>\n",
       "      <th>text</th>\n",
       "      <th>target</th>\n",
       "    </tr>\n",
       "  </thead>\n",
       "  <tbody>\n",
       "    <tr>\n",
       "      <th>0</th>\n",
       "      <td>deeds reason earthquake may forgive us</td>\n",
       "      <td>1</td>\n",
       "    </tr>\n",
       "    <tr>\n",
       "      <th>1</th>\n",
       "      <td>forest fire near la</td>\n",
       "      <td>1</td>\n",
       "    </tr>\n",
       "    <tr>\n",
       "      <th>2</th>\n",
       "      <td>residents asked shelter place notified officer...</td>\n",
       "      <td>1</td>\n",
       "    </tr>\n",
       "    <tr>\n",
       "      <th>3</th>\n",
       "      <td>people receive wildfires evacuation orders</td>\n",
       "      <td>1</td>\n",
       "    </tr>\n",
       "    <tr>\n",
       "      <th>4</th>\n",
       "      <td>got sent photo ruby smoke wildfires pours school</td>\n",
       "      <td>1</td>\n",
       "    </tr>\n",
       "  </tbody>\n",
       "</table>\n",
       "</div>"
      ],
      "text/plain": [
       "                                                text  target\n",
       "0             deeds reason earthquake may forgive us       1\n",
       "1                                forest fire near la       1\n",
       "2  residents asked shelter place notified officer...       1\n",
       "3         people receive wildfires evacuation orders       1\n",
       "4   got sent photo ruby smoke wildfires pours school       1"
      ]
     },
     "execution_count": 10,
     "metadata": {},
     "output_type": "execute_result"
    }
   ],
   "source": [
    "# view the first 5 rows of the dataframe\n",
    "df_train_clean.head()"
   ]
  },
  {
   "cell_type": "markdown",
   "metadata": {},
   "source": [
    "### Preprocess test text"
   ]
  },
  {
   "cell_type": "code",
   "execution_count": 35,
   "metadata": {},
   "outputs": [],
   "source": [
    "# call the process_text function from the processing.py file\n",
    "# save the output into a new dataframe\n",
    "df_test_clean = process_text(df_test)"
   ]
  },
  {
   "cell_type": "code",
   "execution_count": 36,
   "metadata": {},
   "outputs": [
    {
     "data": {
      "text/html": [
       "<div>\n",
       "<style scoped>\n",
       "    .dataframe tbody tr th:only-of-type {\n",
       "        vertical-align: middle;\n",
       "    }\n",
       "\n",
       "    .dataframe tbody tr th {\n",
       "        vertical-align: top;\n",
       "    }\n",
       "\n",
       "    .dataframe thead th {\n",
       "        text-align: right;\n",
       "    }\n",
       "</style>\n",
       "<table border=\"1\" class=\"dataframe\">\n",
       "  <thead>\n",
       "    <tr style=\"text-align: right;\">\n",
       "      <th></th>\n",
       "      <th>text</th>\n",
       "    </tr>\n",
       "  </thead>\n",
       "  <tbody>\n",
       "    <tr>\n",
       "      <th>0</th>\n",
       "      <td>happened terrible car crash</td>\n",
       "    </tr>\n",
       "    <tr>\n",
       "      <th>1</th>\n",
       "      <td>heard earthquake different cities stay safe ev...</td>\n",
       "    </tr>\n",
       "    <tr>\n",
       "      <th>2</th>\n",
       "      <td>forest fire spot pond geese fleeing across str...</td>\n",
       "    </tr>\n",
       "    <tr>\n",
       "      <th>3</th>\n",
       "      <td>apocalypse lighting wildfires</td>\n",
       "    </tr>\n",
       "    <tr>\n",
       "      <th>4</th>\n",
       "      <td>typhoon kills china</td>\n",
       "    </tr>\n",
       "  </tbody>\n",
       "</table>\n",
       "</div>"
      ],
      "text/plain": [
       "                                                text\n",
       "0                        happened terrible car crash\n",
       "1  heard earthquake different cities stay safe ev...\n",
       "2  forest fire spot pond geese fleeing across str...\n",
       "3                      apocalypse lighting wildfires\n",
       "4                                typhoon kills china"
      ]
     },
     "execution_count": 36,
     "metadata": {},
     "output_type": "execute_result"
    }
   ],
   "source": [
    "# view the first 5 rows of the dataframe\n",
    "df_test_clean.head()"
   ]
  },
  {
   "cell_type": "markdown",
   "metadata": {},
   "source": [
    "# Vectorize the text using CountVectorizer"
   ]
  },
  {
   "cell_type": "markdown",
   "metadata": {},
   "source": [
    "### Vectorize the train text"
   ]
  },
  {
   "cell_type": "code",
   "execution_count": 42,
   "metadata": {},
   "outputs": [],
   "source": [
    "# one-hot encode and generate the dataframe with features as words\n",
    "term_df_train = vectorize_df(df_train)"
   ]
  },
  {
   "cell_type": "code",
   "execution_count": 43,
   "metadata": {},
   "outputs": [
    {
     "data": {
      "text/plain": [
       "(7613, 8697)"
      ]
     },
     "execution_count": 43,
     "metadata": {},
     "output_type": "execute_result"
    }
   ],
   "source": [
    "# view first 5 rows of the dataframe, (rows, columns)\n",
    "term_df_train.shape"
   ]
  },
  {
   "cell_type": "code",
   "execution_count": 44,
   "metadata": {},
   "outputs": [],
   "source": [
    "# add the target feature/column from the train data\n",
    "term_df_train['target'] = df_train_clean['target']"
   ]
  },
  {
   "cell_type": "code",
   "execution_count": 45,
   "metadata": {},
   "outputs": [
    {
     "data": {
      "text/plain": [
       "target       3271\n",
       "like          346\n",
       "amp           300\n",
       "fire          254\n",
       "get           229\n",
       "             ... \n",
       "midweek         1\n",
       "migraine        1\n",
       "migrating       1\n",
       "mil             1\n",
       "ab              1\n",
       "Length: 8697, dtype: int64"
      ]
     },
     "execution_count": 45,
     "metadata": {},
     "output_type": "execute_result"
    }
   ],
   "source": [
    "# view counts for each feature/column/word\n",
    "term_df_train.sum(axis=0).sort_values(ascending=False)"
   ]
  },
  {
   "cell_type": "markdown",
   "metadata": {},
   "source": [
    "### Vectorize the test text"
   ]
  },
  {
   "cell_type": "code",
   "execution_count": 46,
   "metadata": {},
   "outputs": [],
   "source": [
    "# one-hot encode and generate the dataframe with features as words\n",
    "term_df_test = vectorize_df(df_test)"
   ]
  },
  {
   "cell_type": "code",
   "execution_count": 47,
   "metadata": {},
   "outputs": [
    {
     "data": {
      "text/plain": [
       "(3263, 5796)"
      ]
     },
     "execution_count": 47,
     "metadata": {},
     "output_type": "execute_result"
    }
   ],
   "source": [
    "# view first 5 rows of the dataframe, (rows, columns)\n",
    "term_df_test.shape"
   ]
  },
  {
   "cell_type": "code",
   "execution_count": 49,
   "metadata": {},
   "outputs": [
    {
     "data": {
      "text/plain": [
       "like          145\n",
       "amp           136\n",
       "fire          109\n",
       "get           108\n",
       "via           104\n",
       "             ... \n",
       "motorways       1\n",
       "motors          1\n",
       "motorcycle      1\n",
       "mothers         1\n",
       "liberals        1\n",
       "Length: 5796, dtype: int64"
      ]
     },
     "execution_count": 49,
     "metadata": {},
     "output_type": "execute_result"
    }
   ],
   "source": [
    "# view counts for each feature/column/word\n",
    "term_df_test.sum(axis=0).sort_values(ascending=False)"
   ]
  },
  {
   "cell_type": "markdown",
   "metadata": {},
   "source": [
    "# Baseline"
   ]
  },
  {
   "cell_type": "code",
   "execution_count": 121,
   "metadata": {},
   "outputs": [
    {
     "data": {
      "text/plain": [
       "0    0.57034\n",
       "1    0.42966\n",
       "Name: target, dtype: float64"
      ]
     },
     "execution_count": 121,
     "metadata": {},
     "output_type": "execute_result"
    }
   ],
   "source": [
    "# if we predicted everything to be 1, disaster, the accuracy would be 0.4296\n",
    "df_train['target'].value_counts(normalize=True)"
   ]
  },
  {
   "cell_type": "markdown",
   "metadata": {},
   "source": [
    "# Models"
   ]
  },
  {
   "cell_type": "markdown",
   "metadata": {},
   "source": [
    "## Neural Network"
   ]
  },
  {
   "cell_type": "markdown",
   "metadata": {},
   "source": [
    "### Create Tensors from Train Data"
   ]
  },
  {
   "cell_type": "code",
   "execution_count": 50,
   "metadata": {},
   "outputs": [],
   "source": [
    "# prepare the tensors for the neural network\n",
    "# tensor = multidimensional numpy array, ndarray in Python\n",
    "train_labels = term_df_train['target'] # series\n",
    "train_data = term_df_train.copy() # dataframe\n",
    "train_data.drop(columns='target', inplace=True)\n",
    "train_data = train_data.to_numpy() # ndarray"
   ]
  },
  {
   "cell_type": "code",
   "execution_count": 56,
   "metadata": {},
   "outputs": [],
   "source": [
    "# create the tensors\n",
    "x_train = pad_sequences(train_data, padding='post', maxlen=10000) # ndarray of length 10000\n",
    "y_train = np.asarray(train_labels).astype('float32') # ndarray"
   ]
  },
  {
   "cell_type": "markdown",
   "metadata": {},
   "source": [
    "### Split the data into train and validation/test"
   ]
  },
  {
   "cell_type": "code",
   "execution_count": 57,
   "metadata": {},
   "outputs": [],
   "source": [
    "# create training and validation/testing data to feed into the neural network\n",
    "partial_x_train, x_val, partial_y_train, y_val = train_test_split(x_train, y_train, random_state=0, stratify=y_train)"
   ]
  },
  {
   "cell_type": "code",
   "execution_count": 59,
   "metadata": {},
   "outputs": [
    {
     "data": {
      "text/plain": [
       "((1904, 10000), (5709, 10000), (1904,), (5709,))"
      ]
     },
     "execution_count": 59,
     "metadata": {},
     "output_type": "execute_result"
    }
   ],
   "source": [
    "# check the shape of the tensors\n",
    "x_val.shape, partial_x_train.shape, y_val.shape, partial_y_train.shape"
   ]
  },
  {
   "cell_type": "markdown",
   "metadata": {},
   "source": [
    "### Build, Train, and Evaluate the Model"
   ]
  },
  {
   "cell_type": "code",
   "execution_count": 74,
   "metadata": {},
   "outputs": [],
   "source": [
    "# build the model\n",
    "model = models.Sequential()\n",
    "model.add(layers.Dense(16, activation='relu', input_shape=(10_000, ))) # , input layer, input shape needs to match the length of the x data tensor\n",
    "model.add(layers.Dense(16, activation='relu')) # intermediate layer, hidden layer\n",
    "model.add(layers.Dense(1, activation='sigmoid')) # output layer"
   ]
  },
  {
   "cell_type": "code",
   "execution_count": 75,
   "metadata": {},
   "outputs": [],
   "source": [
    "# compile the model\n",
    "# need to specify optimizer, loss function, and evaluation metric\n",
    "model.compile(optimizer='rmsprop', loss='binary_crossentropy', metrics=['acc'])"
   ]
  },
  {
   "cell_type": "code",
   "execution_count": 76,
   "metadata": {},
   "outputs": [
    {
     "name": "stdout",
     "output_type": "stream",
     "text": [
      "Epoch 1/20\n",
      "12/12 [==============================] - 0s 28ms/step - loss: 0.6805 - acc: 0.6246 - val_loss: 0.6627 - val_acc: 0.6959\n",
      "Epoch 2/20\n",
      "12/12 [==============================] - 0s 20ms/step - loss: 0.6388 - acc: 0.7602 - val_loss: 0.6277 - val_acc: 0.7637\n",
      "Epoch 3/20\n",
      "12/12 [==============================] - 0s 20ms/step - loss: 0.5905 - acc: 0.8191 - val_loss: 0.5934 - val_acc: 0.7831\n",
      "Epoch 4/20\n",
      "12/12 [==============================] - 0s 20ms/step - loss: 0.5402 - acc: 0.8455 - val_loss: 0.5617 - val_acc: 0.7946\n",
      "Epoch 5/20\n",
      "12/12 [==============================] - 0s 22ms/step - loss: 0.4907 - acc: 0.8604 - val_loss: 0.5333 - val_acc: 0.7994\n",
      "Epoch 6/20\n",
      "12/12 [==============================] - 0s 20ms/step - loss: 0.4436 - acc: 0.8760 - val_loss: 0.5106 - val_acc: 0.7973\n",
      "Epoch 7/20\n",
      "12/12 [==============================] - 0s 20ms/step - loss: 0.4002 - acc: 0.8867 - val_loss: 0.4929 - val_acc: 0.7999\n",
      "Epoch 8/20\n",
      "12/12 [==============================] - 0s 20ms/step - loss: 0.3613 - acc: 0.8946 - val_loss: 0.4803 - val_acc: 0.8004\n",
      "Epoch 9/20\n",
      "12/12 [==============================] - 0s 21ms/step - loss: 0.3265 - acc: 0.9049 - val_loss: 0.4734 - val_acc: 0.7999\n",
      "Epoch 10/20\n",
      "12/12 [==============================] - 0s 21ms/step - loss: 0.2964 - acc: 0.9126 - val_loss: 0.4717 - val_acc: 0.7988\n",
      "Epoch 11/20\n",
      "12/12 [==============================] - 0s 20ms/step - loss: 0.2698 - acc: 0.9184 - val_loss: 0.4747 - val_acc: 0.7967\n",
      "Epoch 12/20\n",
      "12/12 [==============================] - 0s 20ms/step - loss: 0.2463 - acc: 0.9222 - val_loss: 0.4804 - val_acc: 0.8009\n",
      "Epoch 13/20\n",
      "12/12 [==============================] - 0s 20ms/step - loss: 0.2258 - acc: 0.9264 - val_loss: 0.4884 - val_acc: 0.7999\n",
      "Epoch 14/20\n",
      "12/12 [==============================] - 0s 20ms/step - loss: 0.2075 - acc: 0.9317 - val_loss: 0.5019 - val_acc: 0.8009\n",
      "Epoch 15/20\n",
      "12/12 [==============================] - 0s 20ms/step - loss: 0.1913 - acc: 0.9376 - val_loss: 0.5132 - val_acc: 0.7946\n",
      "Epoch 16/20\n",
      "12/12 [==============================] - 0s 20ms/step - loss: 0.1767 - acc: 0.9417 - val_loss: 0.5329 - val_acc: 0.7904\n",
      "Epoch 17/20\n",
      "12/12 [==============================] - 0s 20ms/step - loss: 0.1640 - acc: 0.9457 - val_loss: 0.5507 - val_acc: 0.7910\n",
      "Epoch 18/20\n",
      "12/12 [==============================] - 0s 20ms/step - loss: 0.1524 - acc: 0.9485 - val_loss: 0.5604 - val_acc: 0.7841\n",
      "Epoch 19/20\n",
      "12/12 [==============================] - 0s 20ms/step - loss: 0.1420 - acc: 0.9513 - val_loss: 0.5843 - val_acc: 0.7831\n",
      "Epoch 20/20\n",
      "12/12 [==============================] - 0s 17ms/step - loss: 0.1326 - acc: 0.9539 - val_loss: 0.6125 - val_acc: 0.7868\n"
     ]
    }
   ],
   "source": [
    "# fit/train the model on the train data, and evaluate/test on the validation/test data\n",
    "# need to specify train data, number of epochs, batch size, and validation data\n",
    "history = model.fit(partial_x_train, partial_y_train, epochs=20, batch_size=512, validation_data=(x_val, y_val))"
   ]
  },
  {
   "cell_type": "code",
   "execution_count": 77,
   "metadata": {},
   "outputs": [
    {
     "data": {
      "image/png": "[encoded data removed]",
      "text/plain": [
       "<Figure size 432x288 with 1 Axes>"
      ]
     },
     "metadata": {
      "needs_background": "light"
     },
     "output_type": "display_data"
    }
   ],
   "source": [
    "# plot the training and validation/test loss\n",
    "history_dict = history.history\n",
    "loss_values = history_dict['loss']\n",
    "val_loss_values = history_dict['val_loss']\n",
    "acc_values = history_dict['acc']\n",
    "\n",
    "epochs = range(1, len(acc_values)+1)\n",
    "\n",
    "plt.plot(epochs, loss_values, 'bo', label='Training loss')\n",
    "plt.plot(epochs, val_loss_values, 'b', label='Validation loss')\n",
    "plt.title('Training and validation loss')\n",
    "plt.xlabel('Epochs')\n",
    "plt.ylabel('Loss')\n",
    "plt.legend()\n",
    "\n",
    "plt.show()"
   ]
  },
  {
   "cell_type": "code",
   "execution_count": 78,
   "metadata": {},
   "outputs": [
    {
     "data": {
      "image/png": "[encoded data removed]",
      "text/plain": [
       "<Figure size 432x288 with 1 Axes>"
      ]
     },
     "metadata": {
      "needs_background": "light"
     },
     "output_type": "display_data"
    }
   ],
   "source": [
    "# plot the training and validation/test accuracy\n",
    "plt.clf()\n",
    "acc_values = history_dict['acc']\n",
    "val_acc_values = history_dict['val_acc']\n",
    "\n",
    "plt.plot(epochs, acc_values, 'bo', label='Training acc')\n",
    "plt.plot(epochs, val_acc_values, 'b', label='Validation acc')\n",
    "plt.title('Training and validation accuracy')\n",
    "plt.xlabel('Epochs')\n",
    "plt.ylabel('Loss')\n",
    "plt.legend()\n",
    "\n",
    "plt.show()"
   ]
  },
  {
   "cell_type": "code",
   "execution_count": 79,
   "metadata": {},
   "outputs": [
    {
     "name": "stdout",
     "output_type": "stream",
     "text": [
      "Epoch 1/9\n",
      "12/12 [==============================] - 0s 23ms/step - loss: 0.1248 - acc: 0.9562 - val_loss: 0.6286 - val_acc: 0.7831\n",
      "Epoch 2/9\n",
      "12/12 [==============================] - 0s 20ms/step - loss: 0.1171 - acc: 0.9595 - val_loss: 0.6536 - val_acc: 0.7852\n",
      "Epoch 3/9\n",
      "12/12 [==============================] - 0s 20ms/step - loss: 0.1105 - acc: 0.9613 - val_loss: 0.6721 - val_acc: 0.7815\n",
      "Epoch 4/9\n",
      "12/12 [==============================] - 0s 21ms/step - loss: 0.1041 - acc: 0.9623 - val_loss: 0.7062 - val_acc: 0.7768\n",
      "Epoch 5/9\n",
      "12/12 [==============================] - 0s 20ms/step - loss: 0.0984 - acc: 0.9627 - val_loss: 0.7232 - val_acc: 0.7768\n",
      "Epoch 6/9\n",
      "12/12 [==============================] - 0s 20ms/step - loss: 0.0941 - acc: 0.9651 - val_loss: 0.7547 - val_acc: 0.7763\n",
      "Epoch 7/9\n",
      "12/12 [==============================] - 0s 22ms/step - loss: 0.0895 - acc: 0.9671 - val_loss: 0.7775 - val_acc: 0.7768\n",
      "Epoch 8/9\n",
      "12/12 [==============================] - 0s 21ms/step - loss: 0.0854 - acc: 0.9676 - val_loss: 0.8092 - val_acc: 0.7773\n",
      "Epoch 9/9\n",
      "12/12 [==============================] - 0s 17ms/step - loss: 0.0815 - acc: 0.9690 - val_loss: 0.8306 - val_acc: 0.7705\n"
     ]
    }
   ],
   "source": [
    "# re-train the model with a number of epochs based on where we see the lowest loss and highest accuracy for the validation data (check plots above)\n",
    "history = model.fit(partial_x_train, partial_y_train, epochs=9, batch_size=512, validation_data=(x_val, y_val))"
   ]
  },
  {
   "cell_type": "markdown",
   "metadata": {},
   "source": [
    "### Create Tensor from Kaggle Test Data"
   ]
  },
  {
   "cell_type": "code",
   "execution_count": 80,
   "metadata": {},
   "outputs": [],
   "source": [
    "# prepare the tensors for the neural network\n",
    "# tensor = multidimensional numpy array, ndarray in Python\n",
    "test_data = term_df_test.copy() # dataframe\n",
    "test_data = test_data.to_numpy() # ndarray"
   ]
  },
  {
   "cell_type": "code",
   "execution_count": 81,
   "metadata": {},
   "outputs": [],
   "source": [
    "# create the tensors\n",
    "x_test = pad_sequences(test_data, padding='post', maxlen=10000) # ndarray of length 10000"
   ]
  },
  {
   "cell_type": "code",
   "execution_count": 83,
   "metadata": {},
   "outputs": [
    {
     "data": {
      "text/plain": [
       "(3263, 10000)"
      ]
     },
     "execution_count": 83,
     "metadata": {},
     "output_type": "execute_result"
    }
   ],
   "source": [
    "# check the shape of the tensors\n",
    "x_test.shape"
   ]
  },
  {
   "cell_type": "markdown",
   "metadata": {},
   "source": [
    "### Get predictions from Kaggle Test Data"
   ]
  },
  {
   "cell_type": "code",
   "execution_count": 85,
   "metadata": {},
   "outputs": [
    {
     "data": {
      "text/plain": [
       "array([[0.00387737],\n",
       "       [0.01106459],\n",
       "       [0.9985248 ],\n",
       "       ...,\n",
       "       [0.01381844],\n",
       "       [0.5079835 ],\n",
       "       [0.74192894]], dtype=float32)"
      ]
     },
     "execution_count": 85,
     "metadata": {},
     "output_type": "execute_result"
    }
   ],
   "source": [
    "# get predictions for test data\n",
    "preds = model.predict(x_test)\n",
    "preds"
   ]
  },
  {
   "cell_type": "code",
   "execution_count": 86,
   "metadata": {},
   "outputs": [
    {
     "data": {
      "text/plain": [
       "array([[1],\n",
       "       [1],\n",
       "       [0],\n",
       "       ...,\n",
       "       [1],\n",
       "       [0],\n",
       "       [0]])"
      ]
     },
     "execution_count": 86,
     "metadata": {},
     "output_type": "execute_result"
    }
   ],
   "source": [
    "# map values less that 0.5 to 0 and values higher than 0.5 to 1\n",
    "y_test = (preds < 0.5).astype(np.int)\n",
    "y_test"
   ]
  },
  {
   "cell_type": "markdown",
   "metadata": {},
   "source": [
    "### Create Submission File for Kaggle"
   ]
  },
  {
   "cell_type": "code",
   "execution_count": 97,
   "metadata": {},
   "outputs": [],
   "source": [
    "# add all test data into submission, and drop the features/columns not needed\n",
    "# submission columns are id and target\n",
    "submission = df_test_copy.copy()\n",
    "submission.drop(columns=['keyword', 'location', 'text'], inplace=True)"
   ]
  },
  {
   "cell_type": "code",
   "execution_count": 99,
   "metadata": {},
   "outputs": [],
   "source": [
    "# add the target column to the submission dataframe\n",
    "submission['target'] = y_test"
   ]
  },
  {
   "cell_type": "code",
   "execution_count": 101,
   "metadata": {},
   "outputs": [],
   "source": [
    "# save the submission dataframe into a csv file, then upload the file on the Kaggle website\n",
    "# https://www.kaggle.com/c/nlp-getting-started/submit\n",
    "submission.to_csv('../data/submission.csv', index=False)"
   ]
  },
  {
   "cell_type": "code",
   "execution_count": 128,
   "metadata": {},
   "outputs": [],
   "source": [
    "# Baseline = 0.42966\n",
    "# Kaggle score = 0.46797"
   ]
  },
  {
   "cell_type": "markdown",
   "metadata": {},
   "source": [
    "## Multinomial Naive Bayes"
   ]
  },
  {
   "cell_type": "code",
   "execution_count": 110,
   "metadata": {},
   "outputs": [
    {
     "name": "stdout",
     "output_type": "stream",
     "text": [
      "0.7904411764705882\n"
     ]
    }
   ],
   "source": [
    "model = MultinomialNB()\n",
    "model.fit(partial_x_train, partial_y_train)\n",
    "print(model.score(x_val, y_val))"
   ]
  },
  {
   "cell_type": "markdown",
   "metadata": {},
   "source": [
    "### Get predictions from Kaggle Test Data"
   ]
  },
  {
   "cell_type": "code",
   "execution_count": 111,
   "metadata": {},
   "outputs": [
    {
     "data": {
      "text/plain": [
       "array([0., 0., 1., ..., 0., 1., 0.], dtype=float32)"
      ]
     },
     "execution_count": 111,
     "metadata": {},
     "output_type": "execute_result"
    }
   ],
   "source": [
    "# get predictions for test data\n",
    "preds = model.predict(x_test)\n",
    "preds"
   ]
  },
  {
   "cell_type": "code",
   "execution_count": 112,
   "metadata": {},
   "outputs": [
    {
     "data": {
      "text/plain": [
       "array([1, 1, 0, ..., 1, 0, 1])"
      ]
     },
     "execution_count": 112,
     "metadata": {},
     "output_type": "execute_result"
    }
   ],
   "source": [
    "# map values less that 0.5 to 0 and values higher than 0.5 to 1\n",
    "y_test = (preds < 0.5).astype(np.int)\n",
    "y_test"
   ]
  },
  {
   "cell_type": "markdown",
   "metadata": {},
   "source": [
    "### Create Submission File for Kaggle"
   ]
  },
  {
   "cell_type": "code",
   "execution_count": 113,
   "metadata": {},
   "outputs": [],
   "source": [
    "# add all test data into submission, and drop the features/columns not needed\n",
    "# submission columns are id and target\n",
    "submission_nb = df_test_copy.copy()\n",
    "submission_nb.drop(columns=['keyword', 'location', 'text'], inplace=True)"
   ]
  },
  {
   "cell_type": "code",
   "execution_count": 114,
   "metadata": {},
   "outputs": [],
   "source": [
    "# add the target column to the submission dataframe\n",
    "submission_nb['target'] = y_test"
   ]
  },
  {
   "cell_type": "code",
   "execution_count": 115,
   "metadata": {},
   "outputs": [],
   "source": [
    "# save the submission dataframe into a csv file, then upload the file on the Kaggle website\n",
    "# https://www.kaggle.com/c/nlp-getting-started/submit\n",
    "submission_nb.to_csv('../data/submission_nb.csv', index=False)"
   ]
  },
  {
   "cell_type": "code",
   "execution_count": 127,
   "metadata": {},
   "outputs": [],
   "source": [
    "# Baseline = 0.42966\n",
    "# Kaggle score = 0.46858"
   ]
  },
  {
   "cell_type": "markdown",
   "metadata": {},
   "source": [
    "## Multinomial Naive Bayes with GridSearch"
   ]
  },
  {
   "cell_type": "markdown",
   "metadata": {},
   "source": [
    "### Split the data into train and validation/test"
   ]
  },
  {
   "cell_type": "code",
   "execution_count": 249,
   "metadata": {},
   "outputs": [],
   "source": [
    "x = df_train['text']\n",
    "y = df_train['target']"
   ]
  },
  {
   "cell_type": "code",
   "execution_count": 250,
   "metadata": {},
   "outputs": [],
   "source": [
    "# create training and validation/testing data to feed into the neural network\n",
    "partial_x_train, x_val, partial_y_train, y_val = train_test_split(x, y, random_state=0, stratify=y)"
   ]
  },
  {
   "cell_type": "code",
   "execution_count": 251,
   "metadata": {},
   "outputs": [
    {
     "data": {
      "text/plain": [
       "((1904,), (5709,), (1904,), (5709,))"
      ]
     },
     "execution_count": 251,
     "metadata": {},
     "output_type": "execute_result"
    }
   ],
   "source": [
    "# check the shape of the tensors\n",
    "x_val.shape, partial_x_train.shape, y_val.shape, partial_y_train.shape"
   ]
  },
  {
   "cell_type": "code",
   "execution_count": 252,
   "metadata": {},
   "outputs": [],
   "source": [
    "pipe = Pipeline([\n",
    "    ('cvec', CountVectorizer()),\n",
    "    ('nb', MultinomialNB())\n",
    "])"
   ]
  },
  {
   "cell_type": "code",
   "execution_count": 253,
   "metadata": {},
   "outputs": [],
   "source": [
    "pipe_params = {'cvec__max_features':[2000, 3000, 4000],\n",
    "               'cvec__min_df':[2, 3],\n",
    "               'cvec__max_df':[.90, .95],\n",
    "               'cvec__ngram_range':[(1,1), (1,2)]\n",
    "                }"
   ]
  },
  {
   "cell_type": "code",
   "execution_count": 254,
   "metadata": {},
   "outputs": [],
   "source": [
    "cv_folds = StratifiedKFold(n_splits=5, shuffle=True, random_state=42)"
   ]
  },
  {
   "cell_type": "code",
   "execution_count": 255,
   "metadata": {},
   "outputs": [],
   "source": [
    "gs = GridSearchCV(pipe\n",
    "                  , pipe_params\n",
    "                  , cv=cv_folds \n",
    "                  , verbose=1\n",
    "                  , n_jobs=4\n",
    "                 )"
   ]
  },
  {
   "cell_type": "code",
   "execution_count": 256,
   "metadata": {},
   "outputs": [
    {
     "name": "stdout",
     "output_type": "stream",
     "text": [
      "Fitting 5 folds for each of 24 candidates, totalling 120 fits\n"
     ]
    },
    {
     "name": "stderr",
     "output_type": "stream",
     "text": [
      "[Parallel(n_jobs=4)]: Using backend LokyBackend with 4 concurrent workers.\n",
      "[Parallel(n_jobs=4)]: Done 120 out of 120 | elapsed:    2.3s finished\n"
     ]
    },
    {
     "data": {
      "text/plain": [
       "GridSearchCV(cv=StratifiedKFold(n_splits=5, random_state=42, shuffle=True),\n",
       "             estimator=Pipeline(steps=[('cvec', CountVectorizer()),\n",
       "                                       ('nb', MultinomialNB())]),\n",
       "             n_jobs=4,\n",
       "             param_grid={'cvec__max_df': [0.9, 0.95],\n",
       "                         'cvec__max_features': [2000, 3000, 4000],\n",
       "                         'cvec__min_df': [2, 3],\n",
       "                         'cvec__ngram_range': [(1, 1), (1, 2)]},\n",
       "             verbose=1)"
      ]
     },
     "execution_count": 256,
     "metadata": {},
     "output_type": "execute_result"
    }
   ],
   "source": [
    "gs.fit(partial_x_train, partial_y_train)"
   ]
  },
  {
   "cell_type": "code",
   "execution_count": 257,
   "metadata": {},
   "outputs": [
    {
     "data": {
      "text/plain": [
       "{'cvec__max_df': 0.9,\n",
       " 'cvec__max_features': 4000,\n",
       " 'cvec__min_df': 3,\n",
       " 'cvec__ngram_range': (1, 2)}"
      ]
     },
     "execution_count": 257,
     "metadata": {},
     "output_type": "execute_result"
    }
   ],
   "source": [
    "gs.best_params_"
   ]
  },
  {
   "cell_type": "code",
   "execution_count": 263,
   "metadata": {},
   "outputs": [],
   "source": [
    "preds_val = gs.predict(x_val)"
   ]
  },
  {
   "cell_type": "code",
   "execution_count": 264,
   "metadata": {},
   "outputs": [
    {
     "data": {
      "text/plain": [
       "0.8025210084033614"
      ]
     },
     "execution_count": 264,
     "metadata": {},
     "output_type": "execute_result"
    }
   ],
   "source": [
    "metrics.accuracy_score(y_val, preds_val)"
   ]
  },
  {
   "cell_type": "markdown",
   "metadata": {},
   "source": [
    "### Get predictions from Kaggle Test Data"
   ]
  },
  {
   "cell_type": "code",
   "execution_count": 269,
   "metadata": {},
   "outputs": [
    {
     "data": {
      "text/plain": [
       "array([1, 0, 1, ..., 1, 1, 1])"
      ]
     },
     "execution_count": 269,
     "metadata": {},
     "output_type": "execute_result"
    }
   ],
   "source": [
    "# get predictions for test data\n",
    "preds = gs.predict(df_test['text'])\n",
    "preds"
   ]
  },
  {
   "cell_type": "code",
   "execution_count": 270,
   "metadata": {},
   "outputs": [
    {
     "data": {
      "text/plain": [
       "array([0, 1, 0, ..., 0, 0, 0])"
      ]
     },
     "execution_count": 270,
     "metadata": {},
     "output_type": "execute_result"
    }
   ],
   "source": [
    "# map values less that 0.5 to 0 and values higher than 0.5 to 1\n",
    "y_test = (preds < 0.5).astype(np.int)\n",
    "y_test"
   ]
  },
  {
   "cell_type": "markdown",
   "metadata": {},
   "source": [
    "### Create Submission File for Kaggle"
   ]
  },
  {
   "cell_type": "code",
   "execution_count": 271,
   "metadata": {},
   "outputs": [],
   "source": [
    "# add all test data into submission, and drop the features/columns not needed\n",
    "# submission columns are id and target\n",
    "submission_gs = df_test_copy.copy()\n",
    "submission_gs.drop(columns=['keyword', 'location', 'text'], inplace=True)"
   ]
  },
  {
   "cell_type": "code",
   "execution_count": 272,
   "metadata": {},
   "outputs": [],
   "source": [
    "# add the target column to the submission dataframe\n",
    "submission_gs['target'] = y_test"
   ]
  },
  {
   "cell_type": "code",
   "execution_count": 273,
   "metadata": {},
   "outputs": [],
   "source": [
    "# save the submission dataframe into a csv file, then upload the file on the Kaggle website\n",
    "# https://www.kaggle.com/c/nlp-getting-started/submit\n",
    "submission_gs.to_csv('../data/submission_gs.csv', index=False)"
   ]
  },
  {
   "cell_type": "code",
   "execution_count": 129,
   "metadata": {},
   "outputs": [],
   "source": [
    "# Baseline = 0.42966\n",
    "# Kaggle score = "
   ]
  },
  {
   "cell_type": "markdown",
   "metadata": {},
   "source": [
    "## Neural Network (experiment with layers)"
   ]
  },
  {
   "cell_type": "markdown",
   "metadata": {},
   "source": [
    "### Create Tensors from Train Data"
   ]
  },
  {
   "cell_type": "code",
   "execution_count": 195,
   "metadata": {},
   "outputs": [],
   "source": [
    "# prepare the tensors for the neural network\n",
    "# tensor = multidimensional numpy array, ndarray in Python\n",
    "train_labels = term_df_train['target'] # series\n",
    "train_data = term_df_train.copy() # dataframe\n",
    "train_data.drop(columns='target', inplace=True)\n",
    "train_data = train_data.to_numpy() # ndarray"
   ]
  },
  {
   "cell_type": "code",
   "execution_count": 196,
   "metadata": {},
   "outputs": [],
   "source": [
    "# create the tensors\n",
    "x_train = pad_sequences(train_data, padding='post', maxlen=10000) # ndarray of length 10000\n",
    "y_train = np.asarray(train_labels).astype('float32') # ndarray"
   ]
  },
  {
   "cell_type": "code",
   "execution_count": 197,
   "metadata": {},
   "outputs": [],
   "source": [
    "# create training and validation/testing data to feed into the neural network\n",
    "partial_x_train, x_val, partial_y_train, y_val = train_test_split(x_train, y_train, random_state=0, stratify=y_train)"
   ]
  },
  {
   "cell_type": "markdown",
   "metadata": {},
   "source": [
    "### Create Tensor from Kaggle Test Data"
   ]
  },
  {
   "cell_type": "code",
   "execution_count": 198,
   "metadata": {},
   "outputs": [],
   "source": [
    "# prepare the tensors for the neural network\n",
    "# tensor = multidimensional numpy array, ndarray in Python\n",
    "test_data = term_df_test.copy() # dataframe\n",
    "test_data = test_data.to_numpy() # ndarray"
   ]
  },
  {
   "cell_type": "code",
   "execution_count": 199,
   "metadata": {},
   "outputs": [],
   "source": [
    "# create the tensors\n",
    "x_test = pad_sequences(test_data, padding='post', maxlen=10000) # ndarray of length 10000"
   ]
  },
  {
   "cell_type": "code",
   "execution_count": 200,
   "metadata": {},
   "outputs": [
    {
     "data": {
      "text/plain": [
       "(3263, 10000)"
      ]
     },
     "execution_count": 200,
     "metadata": {},
     "output_type": "execute_result"
    }
   ],
   "source": [
    "# check the shape of the tensors\n",
    "x_test.shape"
   ]
  },
  {
   "cell_type": "markdown",
   "metadata": {},
   "source": [
    "### Split Data into Train and Validation/Test"
   ]
  },
  {
   "cell_type": "code",
   "execution_count": 201,
   "metadata": {},
   "outputs": [
    {
     "data": {
      "text/plain": [
       "((1904, 10000), (5709, 10000), (1904,), (5709,))"
      ]
     },
     "execution_count": 201,
     "metadata": {},
     "output_type": "execute_result"
    }
   ],
   "source": [
    "# check the shape of the tensors\n",
    "x_val.shape, partial_x_train.shape, y_val.shape, partial_y_train.shape"
   ]
  },
  {
   "cell_type": "markdown",
   "metadata": {},
   "source": [
    "### Build, Train, and Evaluate the Model"
   ]
  },
  {
   "cell_type": "code",
   "execution_count": 202,
   "metadata": {},
   "outputs": [],
   "source": [
    "# build the model\n",
    "model = models.Sequential()\n",
    "model.add(layers.Dense(32, activation='relu', input_shape=(10_000, ))) # , input layer, input shape needs to match the length of the x data tensor\n",
    "model.add(layers.Dense(32, activation='relu')) # intermediate layer, hidden layer\n",
    "model.add(layers.Dense(1, activation='sigmoid')) # output layer"
   ]
  },
  {
   "cell_type": "code",
   "execution_count": 203,
   "metadata": {},
   "outputs": [],
   "source": [
    "# compile the model\n",
    "# need to specify optimizer, loss function, and evaluation metric\n",
    "model.compile(optimizer='adam', loss='binary_crossentropy', metrics=['acc'])"
   ]
  },
  {
   "cell_type": "code",
   "execution_count": 204,
   "metadata": {},
   "outputs": [
    {
     "name": "stdout",
     "output_type": "stream",
     "text": [
      "Epoch 1/20\n",
      "12/12 [==============================] - 0s 28ms/step - loss: 0.6867 - acc: 0.6006 - val_loss: 0.6759 - val_acc: 0.6387\n",
      "Epoch 2/20\n",
      "12/12 [==============================] - 0s 20ms/step - loss: 0.6546 - acc: 0.7173 - val_loss: 0.6420 - val_acc: 0.7432\n",
      "Epoch 3/20\n",
      "12/12 [==============================] - 0s 20ms/step - loss: 0.5978 - acc: 0.8229 - val_loss: 0.5899 - val_acc: 0.7873\n",
      "Epoch 4/20\n",
      "12/12 [==============================] - 0s 21ms/step - loss: 0.5153 - acc: 0.8657 - val_loss: 0.5328 - val_acc: 0.8051\n",
      "Epoch 5/20\n",
      "12/12 [==============================] - 0s 20ms/step - loss: 0.4228 - acc: 0.8863 - val_loss: 0.4881 - val_acc: 0.8062\n",
      "Epoch 6/20\n",
      "12/12 [==============================] - 0s 21ms/step - loss: 0.3392 - acc: 0.9058 - val_loss: 0.4649 - val_acc: 0.8067\n",
      "Epoch 7/20\n",
      "12/12 [==============================] - 0s 21ms/step - loss: 0.2719 - acc: 0.9201 - val_loss: 0.4661 - val_acc: 0.8004\n",
      "Epoch 8/20\n",
      "12/12 [==============================] - 0s 21ms/step - loss: 0.2231 - acc: 0.9282 - val_loss: 0.4798 - val_acc: 0.7952\n",
      "Epoch 9/20\n",
      "12/12 [==============================] - 0s 20ms/step - loss: 0.1880 - acc: 0.9404 - val_loss: 0.4993 - val_acc: 0.7915\n",
      "Epoch 10/20\n",
      "12/12 [==============================] - 0s 21ms/step - loss: 0.1607 - acc: 0.9487 - val_loss: 0.5211 - val_acc: 0.7894\n",
      "Epoch 11/20\n",
      "12/12 [==============================] - 0s 20ms/step - loss: 0.1401 - acc: 0.9546 - val_loss: 0.5453 - val_acc: 0.7841\n",
      "Epoch 12/20\n",
      "12/12 [==============================] - 0s 22ms/step - loss: 0.1233 - acc: 0.9618 - val_loss: 0.5693 - val_acc: 0.7883\n",
      "Epoch 13/20\n",
      "12/12 [==============================] - 0s 20ms/step - loss: 0.1097 - acc: 0.9641 - val_loss: 0.5940 - val_acc: 0.7847\n",
      "Epoch 14/20\n",
      "12/12 [==============================] - 0s 20ms/step - loss: 0.0990 - acc: 0.9669 - val_loss: 0.6190 - val_acc: 0.7815\n",
      "Epoch 15/20\n",
      "12/12 [==============================] - 0s 21ms/step - loss: 0.0902 - acc: 0.9700 - val_loss: 0.6410 - val_acc: 0.7794\n",
      "Epoch 16/20\n",
      "12/12 [==============================] - 0s 20ms/step - loss: 0.0838 - acc: 0.9707 - val_loss: 0.6641 - val_acc: 0.7784\n",
      "Epoch 17/20\n",
      "12/12 [==============================] - 0s 20ms/step - loss: 0.0781 - acc: 0.9707 - val_loss: 0.6849 - val_acc: 0.7799\n",
      "Epoch 18/20\n",
      "12/12 [==============================] - 0s 21ms/step - loss: 0.0734 - acc: 0.9721 - val_loss: 0.7061 - val_acc: 0.7799\n",
      "Epoch 19/20\n",
      "12/12 [==============================] - 0s 20ms/step - loss: 0.0687 - acc: 0.9741 - val_loss: 0.7309 - val_acc: 0.7768\n",
      "Epoch 20/20\n",
      "12/12 [==============================] - 0s 17ms/step - loss: 0.0655 - acc: 0.9743 - val_loss: 0.7552 - val_acc: 0.7715\n"
     ]
    }
   ],
   "source": [
    "# fit/train the model on the train data, and evaluate/test on the validation/test data\n",
    "# need to specify train data, number of epochs, batch size, and validation data\n",
    "history = model.fit(partial_x_train, partial_y_train, epochs=20, batch_size=512, validation_data=(x_val, y_val))"
   ]
  },
  {
   "cell_type": "code",
   "execution_count": 205,
   "metadata": {},
   "outputs": [
    {
     "data": {
      "image/png": "[encoded data removed]",
      "text/plain": [
       "<Figure size 432x288 with 1 Axes>"
      ]
     },
     "metadata": {
      "needs_background": "light"
     },
     "output_type": "display_data"
    }
   ],
   "source": [
    "# plot the training and validation/test loss\n",
    "history_dict = history.history\n",
    "loss_values = history_dict['loss']\n",
    "val_loss_values = history_dict['val_loss']\n",
    "acc_values = history_dict['acc']\n",
    "\n",
    "epochs = range(1, len(acc_values)+1)\n",
    "\n",
    "plt.plot(epochs, loss_values, 'bo', label='Training loss')\n",
    "plt.plot(epochs, val_loss_values, 'b', label='Validation loss')\n",
    "plt.title('Training and validation loss')\n",
    "plt.xlabel('Epochs')\n",
    "plt.ylabel('Loss')\n",
    "plt.legend()\n",
    "\n",
    "plt.show()"
   ]
  },
  {
   "cell_type": "code",
   "execution_count": 206,
   "metadata": {},
   "outputs": [
    {
     "data": {
      "image/png": "[encoded data removed]",
      "text/plain": [
       "<Figure size 432x288 with 1 Axes>"
      ]
     },
     "metadata": {
      "needs_background": "light"
     },
     "output_type": "display_data"
    }
   ],
   "source": [
    "# plot the training and validation/test accuracy\n",
    "plt.clf()\n",
    "acc_values = history_dict['acc']\n",
    "val_acc_values = history_dict['val_acc']\n",
    "\n",
    "plt.plot(epochs, acc_values, 'bo', label='Training acc')\n",
    "plt.plot(epochs, val_acc_values, 'b', label='Validation acc')\n",
    "plt.title('Training and validation accuracy')\n",
    "plt.xlabel('Epochs')\n",
    "plt.ylabel('Loss')\n",
    "plt.legend()\n",
    "\n",
    "plt.show()"
   ]
  },
  {
   "cell_type": "code",
   "execution_count": 207,
   "metadata": {},
   "outputs": [
    {
     "name": "stdout",
     "output_type": "stream",
     "text": [
      "Epoch 1/5\n",
      "12/12 [==============================] - 0s 23ms/step - loss: 0.0625 - acc: 0.9764 - val_loss: 0.7760 - val_acc: 0.7705\n",
      "Epoch 2/5\n",
      "12/12 [==============================] - 0s 20ms/step - loss: 0.0611 - acc: 0.9757 - val_loss: 0.7938 - val_acc: 0.7705\n",
      "Epoch 3/5\n",
      "12/12 [==============================] - 0s 20ms/step - loss: 0.0582 - acc: 0.9771 - val_loss: 0.8061 - val_acc: 0.7652\n",
      "Epoch 4/5\n",
      "12/12 [==============================] - 0s 20ms/step - loss: 0.0583 - acc: 0.9755 - val_loss: 0.8278 - val_acc: 0.7694\n",
      "Epoch 5/5\n",
      "12/12 [==============================] - 0s 21ms/step - loss: 0.0552 - acc: 0.9769 - val_loss: 0.8464 - val_acc: 0.7642\n"
     ]
    }
   ],
   "source": [
    "# re-train the model with a number of epochs based on where we see the lowest loss and highest accuracy for the validation data (check plots above)\n",
    "history = model.fit(partial_x_train, partial_y_train, epochs=5, batch_size=512, validation_data=(x_val, y_val))"
   ]
  },
  {
   "cell_type": "markdown",
   "metadata": {},
   "source": [
    "### Get predictions from Kaggle Test Data"
   ]
  },
  {
   "cell_type": "code",
   "execution_count": 208,
   "metadata": {},
   "outputs": [
    {
     "data": {
      "text/plain": [
       "array([[0.00544602],\n",
       "       [0.01601785],\n",
       "       [0.9881507 ],\n",
       "       ...,\n",
       "       [0.01354629],\n",
       "       [0.69387454],\n",
       "       [0.90670705]], dtype=float32)"
      ]
     },
     "execution_count": 208,
     "metadata": {},
     "output_type": "execute_result"
    }
   ],
   "source": [
    "# get predictions for test data\n",
    "preds = model.predict(x_test)\n",
    "preds"
   ]
  },
  {
   "cell_type": "code",
   "execution_count": 209,
   "metadata": {},
   "outputs": [
    {
     "data": {
      "text/plain": [
       "array([[1],\n",
       "       [1],\n",
       "       [0],\n",
       "       ...,\n",
       "       [1],\n",
       "       [0],\n",
       "       [0]])"
      ]
     },
     "execution_count": 209,
     "metadata": {},
     "output_type": "execute_result"
    }
   ],
   "source": [
    "# map values less that 0.5 to 0 and values higher than 0.5 to 1\n",
    "y_test = (preds < 0.5).astype(np.int)\n",
    "y_test"
   ]
  },
  {
   "cell_type": "markdown",
   "metadata": {},
   "source": [
    "### Create Submission File for Kaggle"
   ]
  },
  {
   "cell_type": "code",
   "execution_count": 210,
   "metadata": {},
   "outputs": [],
   "source": [
    "# add all test data into submission, and drop the features/columns not needed\n",
    "# submission columns are id and target\n",
    "submission_nn = df_test_copy.copy()\n",
    "submission_nn.drop(columns=['keyword', 'location', 'text'], inplace=True)"
   ]
  },
  {
   "cell_type": "code",
   "execution_count": 211,
   "metadata": {},
   "outputs": [],
   "source": [
    "# add the target column to the submission dataframe\n",
    "submission_nn['target'] = y_test"
   ]
  },
  {
   "cell_type": "code",
   "execution_count": 212,
   "metadata": {},
   "outputs": [],
   "source": [
    "# save the submission dataframe into a csv file, then upload the file on the Kaggle website\n",
    "# https://www.kaggle.com/c/nlp-getting-started/submit\n",
    "submission_nn.to_csv('../data/submission_nn.csv', index=False)"
   ]
  },
  {
   "cell_type": "code",
   "execution_count": 128,
   "metadata": {},
   "outputs": [],
   "source": [
    "# Baseline = 0.42966\n",
    "# Kaggle score = "
   ]
  },
  {
   "cell_type": "markdown",
   "metadata": {},
   "source": [
    "# Conclusion"
   ]
  },
  {
   "cell_type": "markdown",
   "metadata": {},
   "source": [
    "The Neural Network and Naive Bayes models performed best."
   ]
  },
  {
   "cell_type": "markdown",
   "metadata": {},
   "source": [
    "Neural Networks requires very large amount of data, so they may not be the best option for working with this dataset."
   ]
  },
  {
   "cell_type": "code",
   "execution_count": null,
   "metadata": {},
   "outputs": [],
   "source": []
  }
 ],
 "metadata": {
  "kernelspec": {
   "display_name": "Python 3",
   "language": "python",
   "name": "python3"
  },
  "language_info": {
   "codemirror_mode": {
    "name": "ipython",
    "version": 3
   },
   "file_extension": ".py",
   "mimetype": "text/x-python",
   "name": "python",
   "nbconvert_exporter": "python",
   "pygments_lexer": "ipython3",
   "version": "3.8.3"
  }
 },
 "nbformat": 4,
 "nbformat_minor": 4
}
